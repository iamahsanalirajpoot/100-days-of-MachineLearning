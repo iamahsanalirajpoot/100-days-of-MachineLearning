{
  "nbformat": 4,
  "nbformat_minor": 0,
  "metadata": {
    "colab": {
      "provenance": []
    },
    "kernelspec": {
      "name": "python3",
      "display_name": "Python 3"
    },
    "language_info": {
      "name": "python"
    }
  },
  "cells": [
    {
      "cell_type": "code",
      "execution_count": 4,
      "metadata": {
        "id": "0HpRGf69lHxb"
      },
      "outputs": [],
      "source": [
        "import numpy as np"
      ]
    },
    {
      "cell_type": "markdown",
      "source": [
        "- 0D Tensor or Scalar"
      ],
      "metadata": {
        "id": "1Sjgk6PonRuU"
      }
    },
    {
      "cell_type": "code",
      "source": [
        "# creating 0D tensor / array / scalar\n",
        "a = np.array(4)\n",
        "a"
      ],
      "metadata": {
        "colab": {
          "base_uri": "https://localhost:8080/"
        },
        "id": "_bLkXPN_lpYf",
        "outputId": "d39436cc-8762-4c7a-b432-e87012e73164"
      },
      "execution_count": 5,
      "outputs": [
        {
          "output_type": "execute_result",
          "data": {
            "text/plain": [
              "array(4)"
            ]
          },
          "metadata": {},
          "execution_count": 5
        }
      ]
    },
    {
      "cell_type": "code",
      "source": [
        "a.ndim"
      ],
      "metadata": {
        "colab": {
          "base_uri": "https://localhost:8080/"
        },
        "id": "m5tzmY9Yl_BE",
        "outputId": "7a1aafc0-5c5e-4cc2-b138-43eac6fbffbe"
      },
      "execution_count": 6,
      "outputs": [
        {
          "output_type": "execute_result",
          "data": {
            "text/plain": [
              "0"
            ]
          },
          "metadata": {},
          "execution_count": 6
        }
      ]
    },
    {
      "cell_type": "markdown",
      "source": [
        "---"
      ],
      "metadata": {
        "id": "vUrb1koAxRL2"
      }
    },
    {
      "cell_type": "markdown",
      "source": [
        "- 1D-Tensor or Vector"
      ],
      "metadata": {
        "id": "iWWXUemDnWmq"
      }
    },
    {
      "cell_type": "code",
      "source": [
        "# creating 1D tensor / array / vector\n",
        "b = np.array((1,2,3,4))"
      ],
      "metadata": {
        "id": "VcObUWywnjfv"
      },
      "execution_count": 7,
      "outputs": []
    },
    {
      "cell_type": "code",
      "source": [
        "b"
      ],
      "metadata": {
        "colab": {
          "base_uri": "https://localhost:8080/"
        },
        "id": "5dnvR4YCn2za",
        "outputId": "ca1c4b4f-34f2-4034-d777-c347b251a78f"
      },
      "execution_count": 8,
      "outputs": [
        {
          "output_type": "execute_result",
          "data": {
            "text/plain": [
              "array([1, 2, 3, 4])"
            ]
          },
          "metadata": {},
          "execution_count": 8
        }
      ]
    },
    {
      "cell_type": "code",
      "source": [
        "b.ndim"
      ],
      "metadata": {
        "colab": {
          "base_uri": "https://localhost:8080/"
        },
        "id": "RVTsOvzSn3qd",
        "outputId": "b3743aab-fcb4-49fc-f34d-7e24fcd19b23"
      },
      "execution_count": 9,
      "outputs": [
        {
          "output_type": "execute_result",
          "data": {
            "text/plain": [
              "1"
            ]
          },
          "metadata": {},
          "execution_count": 9
        }
      ]
    },
    {
      "cell_type": "markdown",
      "source": [
        "---"
      ],
      "metadata": {
        "id": "Dt5tXNM-xS7y"
      }
    },
    {
      "cell_type": "markdown",
      "source": [
        "- 2D-Tensor or Matrix"
      ],
      "metadata": {
        "id": "IqCpt6PuqKBW"
      }
    },
    {
      "cell_type": "code",
      "source": [
        "# creating 2D tensor / Matrix\n",
        "mat = np.array([[1,2,3], [4,5,6], [7,8,9]])\n",
        "mat"
      ],
      "metadata": {
        "colab": {
          "base_uri": "https://localhost:8080/"
        },
        "id": "8P-vGR--qPmD",
        "outputId": "b3a4c60e-36d5-4edf-b7ac-469e314c22f4"
      },
      "execution_count": 10,
      "outputs": [
        {
          "output_type": "execute_result",
          "data": {
            "text/plain": [
              "array([[1, 2, 3],\n",
              "       [4, 5, 6],\n",
              "       [7, 8, 9]])"
            ]
          },
          "metadata": {},
          "execution_count": 10
        }
      ]
    },
    {
      "cell_type": "code",
      "source": [
        "mat.shape"
      ],
      "metadata": {
        "colab": {
          "base_uri": "https://localhost:8080/"
        },
        "id": "njL9WuL_xzkW",
        "outputId": "976c8208-dde4-4cd6-fb5d-a6c72267bd1b"
      },
      "execution_count": 18,
      "outputs": [
        {
          "output_type": "execute_result",
          "data": {
            "text/plain": [
              "(3, 3)"
            ]
          },
          "metadata": {},
          "execution_count": 18
        }
      ]
    },
    {
      "cell_type": "code",
      "source": [
        "mat.ndim"
      ],
      "metadata": {
        "id": "9P8HYB3Aq4cd",
        "outputId": "6084a69e-7d01-4447-c702-601d63013146",
        "colab": {
          "base_uri": "https://localhost:8080/"
        }
      },
      "execution_count": 11,
      "outputs": [
        {
          "output_type": "execute_result",
          "data": {
            "text/plain": [
              "2"
            ]
          },
          "metadata": {},
          "execution_count": 11
        }
      ]
    },
    {
      "cell_type": "markdown",
      "source": [
        "---"
      ],
      "metadata": {
        "id": "qFZpqgT-xUjL"
      }
    },
    {
      "cell_type": "markdown",
      "source": [
        "- 3D-Tensor"
      ],
      "metadata": {
        "id": "GN29FRRFwATX"
      }
    },
    {
      "cell_type": "code",
      "source": [
        "# creating 3d tensor\n",
        "tensor_3d = np.array([\n",
        "    [[1, 2, 3, 4],\n",
        "     [5, 6, 7, 8],\n",
        "     [9, 10, 11, 12]],\n",
        "\n",
        "    [[13, 14, 15, 16],\n",
        "     [17, 18, 19, 20],\n",
        "     [21, 22, 23, 24]]\n",
        "])\n",
        "\n",
        "tensor_3d"
      ],
      "metadata": {
        "colab": {
          "base_uri": "https://localhost:8080/"
        },
        "id": "RPd26RNewS7b",
        "outputId": "d6dcdf94-0dfb-412e-e97b-6f8b09f756d4"
      },
      "execution_count": 14,
      "outputs": [
        {
          "output_type": "execute_result",
          "data": {
            "text/plain": [
              "array([[[ 1,  2,  3,  4],\n",
              "        [ 5,  6,  7,  8],\n",
              "        [ 9, 10, 11, 12]],\n",
              "\n",
              "       [[13, 14, 15, 16],\n",
              "        [17, 18, 19, 20],\n",
              "        [21, 22, 23, 24]]])"
            ]
          },
          "metadata": {},
          "execution_count": 14
        }
      ]
    },
    {
      "cell_type": "code",
      "source": [
        "tensor_3d.ndim"
      ],
      "metadata": {
        "colab": {
          "base_uri": "https://localhost:8080/"
        },
        "id": "ek6JHEt_xKDh",
        "outputId": "50a7f3be-aba5-4a0a-e17a-56bcd5daf196"
      },
      "execution_count": 15,
      "outputs": [
        {
          "output_type": "execute_result",
          "data": {
            "text/plain": [
              "3"
            ]
          },
          "metadata": {},
          "execution_count": 15
        }
      ]
    },
    {
      "cell_type": "code",
      "source": [
        "tensor_3d.shape"
      ],
      "metadata": {
        "colab": {
          "base_uri": "https://localhost:8080/"
        },
        "id": "5Wvb-M84xuo4",
        "outputId": "1aeb43a3-fd79-4e07-9945-2230caa51e09"
      },
      "execution_count": 17,
      "outputs": [
        {
          "output_type": "execute_result",
          "data": {
            "text/plain": [
              "(2, 3, 4)"
            ]
          },
          "metadata": {},
          "execution_count": 17
        }
      ]
    },
    {
      "cell_type": "markdown",
      "source": [
        "---"
      ],
      "metadata": {
        "id": "y91DO6BExmdh"
      }
    },
    {
      "cell_type": "markdown",
      "source": [
        "- 4D-tensor"
      ],
      "metadata": {
        "id": "0BAvsGgGxnRJ"
      }
    },
    {
      "cell_type": "code",
      "source": [
        "tensor_4d = np.array(\n",
        "    [\n",
        "        [\n",
        "            [[1, 2, 3, 4],\n",
        "            [5, 6, 7, 8],\n",
        "            [9, 10, 11, 12]],\n",
        "\n",
        "            [[13, 14, 15, 16],\n",
        "             [17, 18, 19, 20],\n",
        "             [21, 22, 23, 24]],\n",
        "\n",
        "        ],\n",
        "\n",
        "        [\n",
        "            [[25, 26, 27, 28],\n",
        "             [29, 30, 31, 32],\n",
        "             [33, 34, 35, 36]],\n",
        "\n",
        "            [[37, 38, 39, 40],\n",
        "             [41, 42, 43, 44],\n",
        "             [48, 46, 47, 48]]\n",
        "        ]\n",
        "    ]\n",
        ")\n",
        "\n",
        "tensor_4d"
      ],
      "metadata": {
        "colab": {
          "base_uri": "https://localhost:8080/"
        },
        "id": "Embq_RgXxqOi",
        "outputId": "fe90dbd8-dbd1-47c9-cfe8-1ef31eb06828"
      },
      "execution_count": 21,
      "outputs": [
        {
          "output_type": "execute_result",
          "data": {
            "text/plain": [
              "array([[[[ 1,  2,  3,  4],\n",
              "         [ 5,  6,  7,  8],\n",
              "         [ 9, 10, 11, 12]],\n",
              "\n",
              "        [[13, 14, 15, 16],\n",
              "         [17, 18, 19, 20],\n",
              "         [21, 22, 23, 24]]],\n",
              "\n",
              "\n",
              "       [[[25, 26, 27, 28],\n",
              "         [29, 30, 31, 32],\n",
              "         [33, 34, 35, 36]],\n",
              "\n",
              "        [[37, 38, 39, 40],\n",
              "         [41, 42, 43, 44],\n",
              "         [48, 46, 47, 48]]]])"
            ]
          },
          "metadata": {},
          "execution_count": 21
        }
      ]
    },
    {
      "cell_type": "code",
      "source": [
        "tensor_4d.shape"
      ],
      "metadata": {
        "colab": {
          "base_uri": "https://localhost:8080/"
        },
        "id": "UnJY7pMizIIj",
        "outputId": "3775d69f-5d95-4b1b-e89a-5d6db4fdf5f3"
      },
      "execution_count": 22,
      "outputs": [
        {
          "output_type": "execute_result",
          "data": {
            "text/plain": [
              "(2, 2, 3, 4)"
            ]
          },
          "metadata": {},
          "execution_count": 22
        }
      ]
    },
    {
      "cell_type": "code",
      "source": [
        "tensor_4d.ndim"
      ],
      "metadata": {
        "colab": {
          "base_uri": "https://localhost:8080/"
        },
        "id": "q80bUUg4zTXp",
        "outputId": "0c1d45d8-ddd3-4b78-efad-f2782cf4f149"
      },
      "execution_count": 23,
      "outputs": [
        {
          "output_type": "execute_result",
          "data": {
            "text/plain": [
              "4"
            ]
          },
          "metadata": {},
          "execution_count": 23
        }
      ]
    },
    {
      "cell_type": "markdown",
      "source": [
        "---"
      ],
      "metadata": {
        "id": "_LDcFiJjzSVx"
      }
    },
    {
      "cell_type": "markdown",
      "source": [
        "- 5D-Tensor"
      ],
      "metadata": {
        "id": "Z35sci9MzhHj"
      }
    },
    {
      "cell_type": "code",
      "source": [
        "tensor_5d = np.array(\n",
        "    [\n",
        "        [\n",
        "        [\n",
        "            [[1, 2, 3, 4],\n",
        "            [5, 6, 7, 8],\n",
        "            [9, 10, 11, 12]],\n",
        "\n",
        "            [[13, 14, 15, 16],\n",
        "             [17, 18, 19, 20],\n",
        "             [21, 22, 23, 24]],\n",
        "\n",
        "        ],\n",
        "\n",
        "        [\n",
        "            [[25, 26, 27, 28],\n",
        "             [29, 30, 31, 32],\n",
        "             [33, 34, 35, 36]],\n",
        "\n",
        "            [[37, 38, 39, 40],\n",
        "             [41, 42, 43, 44],\n",
        "             [48, 46, 47, 48]]\n",
        "        ]\n",
        "    ],\n",
        "\n",
        "        [\n",
        "        [\n",
        "            [[1, 2, 3, 4],\n",
        "            [5, 6, 7, 8],\n",
        "            [9, 10, 11, 12]],\n",
        "\n",
        "            [[13, 14, 15, 16],\n",
        "             [17, 18, 19, 20],\n",
        "             [21, 22, 23, 24]],\n",
        "\n",
        "        ],\n",
        "\n",
        "        [\n",
        "            [[25, 26, 27, 28],\n",
        "             [29, 30, 31, 32],\n",
        "             [33, 34, 35, 36]],\n",
        "\n",
        "            [[37, 38, 39, 40],\n",
        "             [41, 42, 43, 44],\n",
        "             [48, 46, 47, 48]]\n",
        "        ]\n",
        "    ]\n",
        "\n",
        "        ]\n",
        ")\n",
        "\n",
        "tensor_5d"
      ],
      "metadata": {
        "colab": {
          "base_uri": "https://localhost:8080/"
        },
        "id": "N-R_uP1czlHt",
        "outputId": "8ea1053b-a81b-4402-dffe-c0486f62cbfc"
      },
      "execution_count": 29,
      "outputs": [
        {
          "output_type": "execute_result",
          "data": {
            "text/plain": [
              "array([[[[[ 1,  2,  3,  4],\n",
              "          [ 5,  6,  7,  8],\n",
              "          [ 9, 10, 11, 12]],\n",
              "\n",
              "         [[13, 14, 15, 16],\n",
              "          [17, 18, 19, 20],\n",
              "          [21, 22, 23, 24]]],\n",
              "\n",
              "\n",
              "        [[[25, 26, 27, 28],\n",
              "          [29, 30, 31, 32],\n",
              "          [33, 34, 35, 36]],\n",
              "\n",
              "         [[37, 38, 39, 40],\n",
              "          [41, 42, 43, 44],\n",
              "          [48, 46, 47, 48]]]],\n",
              "\n",
              "\n",
              "\n",
              "       [[[[ 1,  2,  3,  4],\n",
              "          [ 5,  6,  7,  8],\n",
              "          [ 9, 10, 11, 12]],\n",
              "\n",
              "         [[13, 14, 15, 16],\n",
              "          [17, 18, 19, 20],\n",
              "          [21, 22, 23, 24]]],\n",
              "\n",
              "\n",
              "        [[[25, 26, 27, 28],\n",
              "          [29, 30, 31, 32],\n",
              "          [33, 34, 35, 36]],\n",
              "\n",
              "         [[37, 38, 39, 40],\n",
              "          [41, 42, 43, 44],\n",
              "          [48, 46, 47, 48]]]]])"
            ]
          },
          "metadata": {},
          "execution_count": 29
        }
      ]
    },
    {
      "cell_type": "code",
      "source": [
        "tensor_5d.shape"
      ],
      "metadata": {
        "colab": {
          "base_uri": "https://localhost:8080/"
        },
        "id": "7CFHKAvZ0Eb-",
        "outputId": "e4eb8aaf-9e89-4b74-a7a0-581e7c09fd0c"
      },
      "execution_count": 30,
      "outputs": [
        {
          "output_type": "execute_result",
          "data": {
            "text/plain": [
              "(2, 2, 2, 3, 4)"
            ]
          },
          "metadata": {},
          "execution_count": 30
        }
      ]
    },
    {
      "cell_type": "code",
      "source": [
        "tensor_5d.ndim"
      ],
      "metadata": {
        "colab": {
          "base_uri": "https://localhost:8080/"
        },
        "id": "pRZqwhV3z3VF",
        "outputId": "07186d61-d283-4494-ad67-ff68f34f4334"
      },
      "execution_count": 27,
      "outputs": [
        {
          "output_type": "execute_result",
          "data": {
            "text/plain": [
              "5"
            ]
          },
          "metadata": {},
          "execution_count": 27
        }
      ]
    },
    {
      "cell_type": "markdown",
      "source": [
        "---"
      ],
      "metadata": {
        "id": "7caStIRM0SU_"
      }
    }
  ]
}