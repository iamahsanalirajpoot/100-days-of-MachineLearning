{
  "cells": [
    {
      "cell_type": "markdown",
      "id": "d7bdb459",
      "metadata": {
        "id": "d7bdb459"
      },
      "source": [
        "# **Scrapping Amazon Product Data from Search Results**"
      ]
    },
    {
      "cell_type": "code",
      "execution_count": 1,
      "id": "_8hL--FL0rjq",
      "metadata": {
        "colab": {
          "base_uri": "https://localhost:8080/"
        },
        "id": "_8hL--FL0rjq",
        "outputId": "bfed1a42-4d48-443f-c560-39dcf016ae02"
      },
      "outputs": [
        {
          "name": "stdout",
          "output_type": "stream",
          "text": [
            "Collecting bs4\n",
            "  Downloading bs4-0.0.2-py2.py3-none-any.whl.metadata (411 bytes)\n",
            "Requirement already satisfied: beautifulsoup4 in /usr/local/lib/python3.12/dist-packages (from bs4) (4.13.5)\n",
            "Requirement already satisfied: soupsieve>1.2 in /usr/local/lib/python3.12/dist-packages (from beautifulsoup4->bs4) (2.8)\n",
            "Requirement already satisfied: typing-extensions>=4.0.0 in /usr/local/lib/python3.12/dist-packages (from beautifulsoup4->bs4) (4.15.0)\n",
            "Downloading bs4-0.0.2-py2.py3-none-any.whl (1.2 kB)\n",
            "Installing collected packages: bs4\n",
            "Successfully installed bs4-0.0.2\n"
          ]
        }
      ],
      "source": [
        "!pip install bs4"
      ]
    },
    {
      "cell_type": "code",
      "execution_count": 2,
      "id": "z4xvq-Gf0uWC",
      "metadata": {
        "colab": {
          "base_uri": "https://localhost:8080/"
        },
        "id": "z4xvq-Gf0uWC",
        "outputId": "cdb60dcf-a4e5-4d27-e742-ecd26ea4e5f0"
      },
      "outputs": [
        {
          "name": "stdout",
          "output_type": "stream",
          "text": [
            "Requirement already satisfied: requests in /usr/local/lib/python3.12/dist-packages (2.32.4)\n",
            "Requirement already satisfied: charset_normalizer<4,>=2 in /usr/local/lib/python3.12/dist-packages (from requests) (3.4.3)\n",
            "Requirement already satisfied: idna<4,>=2.5 in /usr/local/lib/python3.12/dist-packages (from requests) (3.10)\n",
            "Requirement already satisfied: urllib3<3,>=1.21.1 in /usr/local/lib/python3.12/dist-packages (from requests) (2.5.0)\n",
            "Requirement already satisfied: certifi>=2017.4.17 in /usr/local/lib/python3.12/dist-packages (from requests) (2025.10.5)\n"
          ]
        }
      ],
      "source": [
        "!pip install requests"
      ]
    },
    {
      "cell_type": "code",
      "execution_count": 3,
      "id": "c607ff73",
      "metadata": {
        "id": "c607ff73"
      },
      "outputs": [],
      "source": [
        "# importing libraries\n",
        "import pandas as pd\n",
        "import requests\n",
        "from bs4 import BeautifulSoup"
      ]
    },
    {
      "cell_type": "code",
      "execution_count": 4,
      "id": "bbf8aae8",
      "metadata": {
        "id": "bbf8aae8"
      },
      "outputs": [],
      "source": [
        "# headers to mimic a real browser visit\n",
        "headers = {\n",
        "    \"User-Agent\": \"Mozilla/5.0 (Windows NT 10.0; Win64; x64) AppleWebKit/537.36 (KHTML, like Gecko) Chrome/141.0.0.0 Safari/537.36\",\n",
        "    \"Accept-Language\": \"en-US,en;q=0.9\",\n",
        "    \"Accept\": \"text/html,application/xhtml+xml,application/xml;q=0.9,image/avif,image/webp,*/*;q=0.8\",\n",
        "    \"Referer\": \"https://www.google.com/\",\n",
        "}\n",
        "\n",
        "url = 'https://www.amazon.com/s?k=moth+balls&page=2&xpid=ioWbEdwFbzmhp&qid=1760595892&ref=sr_pg_2'\n",
        "\n",
        "webpage = requests.get(url, headers=headers)"
      ]
    },
    {
      "cell_type": "code",
      "execution_count": 5,
      "id": "mE7CVS9H2TZd",
      "metadata": {
        "colab": {
          "base_uri": "https://localhost:8080/"
        },
        "id": "mE7CVS9H2TZd",
        "outputId": "391049be-0d44-4751-8979-af71b461bb74"
      },
      "outputs": [
        {
          "data": {
            "text/plain": [
              "200"
            ]
          },
          "execution_count": 5,
          "metadata": {},
          "output_type": "execute_result"
        }
      ],
      "source": [
        "webpage.status_code"
      ]
    },
    {
      "cell_type": "code",
      "execution_count": null,
      "id": "kTbj3Khy3XF6",
      "metadata": {
        "id": "kTbj3Khy3XF6"
      },
      "outputs": [],
      "source": [
        "s = BeautifulSoup(webpage.content, 'html.parser')"
      ]
    },
    {
      "cell_type": "code",
      "execution_count": null,
      "id": "8nJKhgQ45IZj",
      "metadata": {
        "id": "8nJKhgQ45IZj"
      },
      "outputs": [],
      "source": [
        "links = s.find_all('a', class_=\"a-link-normal s-line-clamp-4 s-link-style a-text-normal\") # all the product links"
      ]
    },
    {
      "cell_type": "code",
      "execution_count": null,
      "id": "Roqk6i7-6nq7",
      "metadata": {
        "id": "Roqk6i7-6nq7"
      },
      "outputs": [],
      "source": [
        "product_url = 'https://www.amazon.com/' + links[0].get('href') # complete product URL"
      ]
    },
    {
      "cell_type": "code",
      "execution_count": 10,
      "id": "IIc6n8ke7AqS",
      "metadata": {
        "colab": {
          "base_uri": "https://localhost:8080/",
          "height": 70
        },
        "id": "IIc6n8ke7AqS",
        "outputId": "fdd5ef50-e0ad-4070-ea2e-2b837087d365"
      },
      "outputs": [
        {
          "data": {
            "application/vnd.google.colaboratory.intrinsic+json": {
              "type": "string"
            },
            "text/plain": [
              "'https://www.amazon.com//Repellent-Peppermint-Repellents-Strongly-Squirrels/dp/B0FBV88WSC/ref=sr_1_49?dib=eyJ2IjoiMSJ9.vc2JNiYCZ1Kmu6AL-6JsHoaqIAOcLfymajq3IEbVOArKdPf4c8bJz6YUnJMxmRWbGU3x_QUukWFvAg6_ITm1YzFkEihBCd89O_j2CHJSNtRVu1NYnuL3lSavMgTTHUbU-hGNdVQEIWOo8p4GzRWT3EnDx61gXuocVwIzViIdaGxaOtWijHBcCghyPFdzZydP0gHculw9HC2LVoC-mjEVRADKCFO4ofGNGLoxrjobS1TQcCQHWGTuxqwauKPrSfO2wGUIRk6KwR7ruRaSOig3HUA6imDV8kra_e4LBrQrb4Y.kxpz2UtkPpcVfLAcmGM0g0ZdjHVmQQRwKazjJDjkoqU&dib_tag=se&keywords=moth+balls&qid=1760614412&sr=8-49&xpid=ioWbEdwFbzmhp'"
            ]
          },
          "execution_count": 10,
          "metadata": {},
          "output_type": "execute_result"
        }
      ],
      "source": [
        "product_url"
      ]
    },
    {
      "cell_type": "code",
      "execution_count": null,
      "id": "0eZc5pe_7xeY",
      "metadata": {
        "id": "0eZc5pe_7xeY"
      },
      "outputs": [],
      "source": [
        "list_webpage = requests.get(product_url, headers=headers) # requesting the product URL"
      ]
    },
    {
      "cell_type": "code",
      "execution_count": 12,
      "id": "0g01lR6f76iL",
      "metadata": {
        "colab": {
          "base_uri": "https://localhost:8080/"
        },
        "id": "0g01lR6f76iL",
        "outputId": "f42570de-baaa-4967-df1d-8a9c8e28e8c0"
      },
      "outputs": [
        {
          "data": {
            "text/plain": [
              "<Response [200]>"
            ]
          },
          "execution_count": 12,
          "metadata": {},
          "output_type": "execute_result"
        }
      ],
      "source": [
        "list_webpage"
      ]
    },
    {
      "cell_type": "code",
      "execution_count": 13,
      "id": "QDaE2Eai8Ajl",
      "metadata": {
        "id": "QDaE2Eai8Ajl"
      },
      "outputs": [],
      "source": [
        "product_s = BeautifulSoup(list_webpage.content, 'html.parser')"
      ]
    },
    {
      "cell_type": "code",
      "execution_count": null,
      "id": "MxPgZedU-2zg",
      "metadata": {
        "id": "MxPgZedU-2zg"
      },
      "outputs": [],
      "source": [
        "title = product_s('span', attrs={'id': \"productTitle\"})[0].text.strip() # product title"
      ]
    },
    {
      "cell_type": "code",
      "execution_count": 15,
      "id": "ooSJGnRB_N5k",
      "metadata": {
        "colab": {
          "base_uri": "https://localhost:8080/",
          "height": 35
        },
        "id": "ooSJGnRB_N5k",
        "outputId": "da30815a-5cac-4193-8931-b4cc2e0dd2e2"
      },
      "outputs": [
        {
          "data": {
            "application/vnd.google.colaboratory.intrinsic+json": {
              "type": "string"
            },
            "text/plain": [
              "'Mice Repellent, Rodent Repellent Indoor/Outdoor, Moth Balls, Peppermint Pest and Mice Rat Repellents and Strongly Repel Roaches, Squirrels, Ants, Other Rodents 10 Pack'"
            ]
          },
          "execution_count": 15,
          "metadata": {},
          "output_type": "execute_result"
        }
      ],
      "source": [
        "title"
      ]
    },
    {
      "cell_type": "code",
      "execution_count": null,
      "id": "2HYbq_xd_-Ts",
      "metadata": {
        "id": "2HYbq_xd_-Ts"
      },
      "outputs": [],
      "source": [
        "rating = product_s('span', class_='reviewCountTextLinkedHistogram noUnderline')[0].get('title') # rating"
      ]
    },
    {
      "cell_type": "code",
      "execution_count": null,
      "id": "rdO1sdCIAImF",
      "metadata": {
        "colab": {
          "base_uri": "https://localhost:8080/",
          "height": 35
        },
        "id": "rdO1sdCIAImF",
        "outputId": "9daba917-167f-456b-8f96-c54ba60ee59e"
      },
      "outputs": [
        {
          "data": {
            "application/vnd.google.colaboratory.intrinsic+json": {
              "type": "string"
            },
            "text/plain": [
              "'3.3 out of 5 stars'"
            ]
          },
          "execution_count": 17,
          "metadata": {},
          "output_type": "execute_result"
        }
      ],
      "source": [
        "rating"
      ]
    },
    {
      "cell_type": "code",
      "execution_count": 18,
      "id": "9VfJCZi7CLp4",
      "metadata": {
        "id": "9VfJCZi7CLp4"
      },
      "outputs": [],
      "source": [
        "# price = product_s('span', class_=\"a-price-whole\")[0].text + product_s('span', class_=\"a-price-fraction\")[0].text\n",
        "price = product_s('span', attrs={'class' : 'a-offscreen'})[0].text"
      ]
    },
    {
      "cell_type": "code",
      "execution_count": 19,
      "id": "pEVAUnt5CR4W",
      "metadata": {
        "colab": {
          "base_uri": "https://localhost:8080/",
          "height": 35
        },
        "id": "pEVAUnt5CR4W",
        "outputId": "ce365062-84fa-4b97-992f-8c9de3d1ed20"
      },
      "outputs": [
        {
          "data": {
            "application/vnd.google.colaboratory.intrinsic+json": {
              "type": "string"
            },
            "text/plain": [
              "'$29.99'"
            ]
          },
          "execution_count": 19,
          "metadata": {},
          "output_type": "execute_result"
        }
      ],
      "source": [
        "price"
      ]
    },
    {
      "cell_type": "code",
      "execution_count": 20,
      "id": "zPMssZwAFae4",
      "metadata": {
        "id": "zPMssZwAFae4"
      },
      "outputs": [],
      "source": [
        "review = product_s('span', attrs={'id' : \"acrCustomerReviewText\"})[0].text"
      ]
    },
    {
      "cell_type": "code",
      "execution_count": 21,
      "id": "APn7sfHkFkkq",
      "metadata": {
        "colab": {
          "base_uri": "https://localhost:8080/",
          "height": 35
        },
        "id": "APn7sfHkFkkq",
        "outputId": "c417d42e-01d1-4370-eb13-2b8071d23874"
      },
      "outputs": [
        {
          "data": {
            "application/vnd.google.colaboratory.intrinsic+json": {
              "type": "string"
            },
            "text/plain": [
              "'25 ratings'"
            ]
          },
          "execution_count": 21,
          "metadata": {},
          "output_type": "execute_result"
        }
      ],
      "source": [
        "review"
      ]
    },
    {
      "cell_type": "markdown",
      "id": "RQWW1GX8Oj7M",
      "metadata": {
        "id": "RQWW1GX8Oj7M"
      },
      "source": [
        "---"
      ]
    },
    {
      "cell_type": "code",
      "execution_count": 22,
      "id": "PFuDOsPVOkpR",
      "metadata": {
        "id": "PFuDOsPVOkpR"
      },
      "outputs": [],
      "source": [
        "# headers to mimic a real browser visit\n",
        "headers = {\n",
        "    \"User-Agent\": \"Mozilla/5.0 (Windows NT 10.0; Win64; x64) AppleWebKit/537.36 (KHTML, like Gecko) Chrome/141.0.0.0 Safari/537.36\",\n",
        "    \"Accept-Language\": \"en-US,en;q=0.9\",\n",
        "    \"Accept\": \"text/html,application/xhtml+xml,application/xml;q=0.9,image/avif,image/webp,*/*;q=0.8\",\n",
        "    \"Referer\": \"https://www.google.com/\",\n",
        "}\n",
        "\n",
        "url = 'https://www.amazon.com/s?k=moth+balls&page=1&xpid=ioWbEdwFbzmhp&qid=1760595892&ref=sr_pg_1'\n",
        "\n",
        "webpage = requests.get(url, headers=headers)"
      ]
    },
    {
      "cell_type": "code",
      "execution_count": 23,
      "id": "hvmDrI_kPVEi",
      "metadata": {
        "colab": {
          "base_uri": "https://localhost:8080/"
        },
        "id": "hvmDrI_kPVEi",
        "outputId": "c8f25e50-d1f9-4aca-eef4-a321ea4d1fbf"
      },
      "outputs": [
        {
          "data": {
            "text/plain": [
              "<Response [200]>"
            ]
          },
          "execution_count": 23,
          "metadata": {},
          "output_type": "execute_result"
        }
      ],
      "source": [
        "webpage"
      ]
    },
    {
      "cell_type": "code",
      "execution_count": 24,
      "id": "4Mzxx6SOPWRv",
      "metadata": {
        "id": "4Mzxx6SOPWRv"
      },
      "outputs": [],
      "source": [
        "s = BeautifulSoup(webpage.content, 'html.parser')"
      ]
    },
    {
      "cell_type": "code",
      "execution_count": null,
      "id": "1TiJ-0vkQA0z",
      "metadata": {
        "id": "1TiJ-0vkQA0z"
      },
      "outputs": [],
      "source": [
        "products = s.find_all(\"div\", {\"data-component-type\": \"s-search-result\"}) # all the products with the specified div and attribute"
      ]
    },
    {
      "cell_type": "markdown",
      "id": "Gp2mX6DDkoNE",
      "metadata": {
        "id": "Gp2mX6DDkoNE"
      },
      "source": [
        "- ### Extracting ASINs"
      ]
    },
    {
      "cell_type": "code",
      "execution_count": 26,
      "id": "MdOglUUuR7vP",
      "metadata": {
        "id": "MdOglUUuR7vP"
      },
      "outputs": [],
      "source": [
        "asin = []\n",
        "\n",
        "for item in products:\n",
        "  asin.append(item.get('data-asin'))"
      ]
    },
    {
      "cell_type": "code",
      "execution_count": 27,
      "id": "y0OQe7ikX1Yc",
      "metadata": {
        "colab": {
          "base_uri": "https://localhost:8080/"
        },
        "id": "y0OQe7ikX1Yc",
        "outputId": "89177f3f-9044-4300-91e9-8b2e189e1752"
      },
      "outputs": [
        {
          "data": {
            "text/plain": [
              "48"
            ]
          },
          "execution_count": 27,
          "metadata": {},
          "output_type": "execute_result"
        }
      ],
      "source": [
        "len(asin)"
      ]
    },
    {
      "cell_type": "markdown",
      "id": "AKA5qgzFnBE2",
      "metadata": {
        "id": "AKA5qgzFnBE2"
      },
      "source": [
        "- ### Extracting Titles"
      ]
    },
    {
      "cell_type": "code",
      "execution_count": 28,
      "id": "C4P0TurpVfQ2",
      "metadata": {
        "id": "C4P0TurpVfQ2"
      },
      "outputs": [],
      "source": [
        "title = []\n",
        "\n",
        "for item in products:\n",
        "  title.append(item.find('h2', class_='a-size-base-plus a-spacing-none a-color-base a-text-normal').text)"
      ]
    },
    {
      "cell_type": "code",
      "execution_count": 29,
      "id": "pJcoCJ4uX7S0",
      "metadata": {
        "colab": {
          "base_uri": "https://localhost:8080/"
        },
        "id": "pJcoCJ4uX7S0",
        "outputId": "ccd148e1-b636-460f-f69a-ad042b4a5cd0"
      },
      "outputs": [
        {
          "data": {
            "text/plain": [
              "48"
            ]
          },
          "execution_count": 29,
          "metadata": {},
          "output_type": "execute_result"
        }
      ],
      "source": [
        "len(title)"
      ]
    },
    {
      "cell_type": "markdown",
      "id": "H2hyeV7pnHRR",
      "metadata": {
        "id": "H2hyeV7pnHRR"
      },
      "source": [
        "- ### Extracting Images URL"
      ]
    },
    {
      "cell_type": "code",
      "execution_count": 30,
      "id": "OiuHTMHlYUEK",
      "metadata": {
        "id": "OiuHTMHlYUEK"
      },
      "outputs": [],
      "source": [
        "image_url = []\n",
        "\n",
        "for item in products:\n",
        "  image_url.append(item.find('img', class_='s-image').get('srcset').split()[4])"
      ]
    },
    {
      "cell_type": "code",
      "execution_count": 31,
      "id": "aPcNT01faw33",
      "metadata": {
        "colab": {
          "base_uri": "https://localhost:8080/"
        },
        "id": "aPcNT01faw33",
        "outputId": "81c06115-420f-4d83-ed78-06e40457ae31"
      },
      "outputs": [
        {
          "data": {
            "text/plain": [
              "48"
            ]
          },
          "execution_count": 31,
          "metadata": {},
          "output_type": "execute_result"
        }
      ],
      "source": [
        "len(image_url)"
      ]
    },
    {
      "cell_type": "markdown",
      "id": "k_8Ojq8nnPsm",
      "metadata": {
        "id": "k_8Ojq8nnPsm"
      },
      "source": [
        "- ### Extracting Price"
      ]
    },
    {
      "cell_type": "code",
      "execution_count": 32,
      "id": "zyKtpbJ5inkw",
      "metadata": {
        "id": "zyKtpbJ5inkw"
      },
      "outputs": [],
      "source": [
        "price = []\n",
        "\n",
        "for item in products:\n",
        "    whole_price = item.find(\"span\", class_=\"a-price-whole\")\n",
        "    fraction_price = item.find(\"span\", class_=\"a-price-fraction\")\n",
        "\n",
        "    if whole_price and fraction_price:\n",
        "        temp_price = whole_price.text + fraction_price.text\n",
        "    elif whole_price:\n",
        "        temp_price = whole_price.text\n",
        "    else:\n",
        "        temp_price = \"N/A\"\n",
        "\n",
        "    price.append(temp_price)"
      ]
    },
    {
      "cell_type": "code",
      "execution_count": 33,
      "id": "bZssjwq1kZ-F",
      "metadata": {
        "colab": {
          "base_uri": "https://localhost:8080/"
        },
        "id": "bZssjwq1kZ-F",
        "outputId": "dda297a3-c5cd-4f05-ed76-6c28328bc24d"
      },
      "outputs": [
        {
          "data": {
            "text/plain": [
              "48"
            ]
          },
          "execution_count": 33,
          "metadata": {},
          "output_type": "execute_result"
        }
      ],
      "source": [
        "len(price)"
      ]
    },
    {
      "cell_type": "markdown",
      "id": "oO6PFE9LnwOJ",
      "metadata": {
        "id": "oO6PFE9LnwOJ"
      },
      "source": [
        "- ### Extracting Number of Reviews"
      ]
    },
    {
      "cell_type": "code",
      "execution_count": 34,
      "id": "IVvE5WzknzIf",
      "metadata": {
        "id": "IVvE5WzknzIf"
      },
      "outputs": [],
      "source": [
        "reviews = []\n",
        "\n",
        "for item in products:\n",
        "  temp_review = item.find('a', class_='a-link-normal s-underline-text s-underline-link-text s-link-style')\n",
        "  if temp_review:\n",
        "    reviews.append(temp_review.get('aria-label'))\n",
        "  else:\n",
        "    reviews.append('N/A')"
      ]
    },
    {
      "cell_type": "code",
      "execution_count": 35,
      "id": "YF8ioWuRtSRB",
      "metadata": {
        "colab": {
          "base_uri": "https://localhost:8080/",
          "height": 35
        },
        "id": "YF8ioWuRtSRB",
        "outputId": "ed28c93e-2bfa-492d-b937-b9c7f3e9b8c0"
      },
      "outputs": [
        {
          "data": {
            "application/vnd.google.colaboratory.intrinsic+json": {
              "type": "string"
            },
            "text/plain": [
              "'2,617 ratings'"
            ]
          },
          "execution_count": 35,
          "metadata": {},
          "output_type": "execute_result"
        }
      ],
      "source": [
        "reviews[5]"
      ]
    },
    {
      "cell_type": "code",
      "execution_count": 36,
      "id": "Ss5R8NWXtmrz",
      "metadata": {
        "colab": {
          "base_uri": "https://localhost:8080/"
        },
        "id": "Ss5R8NWXtmrz",
        "outputId": "be2bd135-1379-472d-aa40-3e421a0af2fc"
      },
      "outputs": [
        {
          "data": {
            "text/plain": [
              "48"
            ]
          },
          "execution_count": 36,
          "metadata": {},
          "output_type": "execute_result"
        }
      ],
      "source": [
        "len(reviews)"
      ]
    },
    {
      "cell_type": "markdown",
      "id": "tngRao14uMq-",
      "metadata": {
        "id": "tngRao14uMq-"
      },
      "source": [
        "- ### Extracting Ratings"
      ]
    },
    {
      "cell_type": "code",
      "execution_count": 37,
      "id": "pEp8LSW_uQ4y",
      "metadata": {
        "id": "pEp8LSW_uQ4y"
      },
      "outputs": [],
      "source": [
        "ratings = []\n",
        "\n",
        "for item in products:\n",
        "  temp_rating = item.find('span', 'a-size-small a-color-base')\n",
        "  if temp_rating:\n",
        "    ratings.append(temp_rating.text)\n",
        "  else:\n",
        "    ratings.append('N/A')"
      ]
    },
    {
      "cell_type": "code",
      "execution_count": 38,
      "id": "o0Ji4JbsvHj1",
      "metadata": {
        "colab": {
          "base_uri": "https://localhost:8080/"
        },
        "id": "o0Ji4JbsvHj1",
        "outputId": "86083208-7a0f-49cc-a7f5-06efd95f5d3a"
      },
      "outputs": [
        {
          "data": {
            "text/plain": [
              "['4.5', '4.3', '4.6', '4.5', '4.2', '4.2', '4.6', '4.4', '4.3', '4.4']"
            ]
          },
          "execution_count": 38,
          "metadata": {},
          "output_type": "execute_result"
        }
      ],
      "source": [
        "ratings[:10]"
      ]
    },
    {
      "cell_type": "markdown",
      "id": "TbC1qMMyxHmo",
      "metadata": {
        "id": "TbC1qMMyxHmo"
      },
      "source": [
        "- Creating Listing URL using ASIN"
      ]
    },
    {
      "cell_type": "code",
      "execution_count": 39,
      "id": "s1QXf1SEvr2q",
      "metadata": {
        "id": "s1QXf1SEvr2q"
      },
      "outputs": [],
      "source": [
        "listing_url = []\n",
        "\n",
        "for i in asin:\n",
        "  if i == 'N/A':\n",
        "    listing_url.append('N/A')\n",
        "  else:\n",
        "    url = 'https://www.amazon.com/dp/' + i\n",
        "    listing_url.append(url)"
      ]
    },
    {
      "cell_type": "code",
      "execution_count": 40,
      "id": "zlF88jFZwfjV",
      "metadata": {
        "colab": {
          "base_uri": "https://localhost:8080/"
        },
        "id": "zlF88jFZwfjV",
        "outputId": "a170828f-6e87-4cbe-d33f-87cc506528c1"
      },
      "outputs": [
        {
          "data": {
            "text/plain": [
              "48"
            ]
          },
          "execution_count": 40,
          "metadata": {},
          "output_type": "execute_result"
        }
      ],
      "source": [
        "len(listing_url)"
      ]
    },
    {
      "cell_type": "code",
      "execution_count": null,
      "id": "MpmQzrEHxO64",
      "metadata": {
        "id": "MpmQzrEHxO64"
      },
      "outputs": [],
      "source": [
        "# creating a dictionary of the scraped data\n",
        "data = {'ASIN' : asin,\n",
        "        'title': title,\n",
        "        'image_url' : image_url,\n",
        "        'price': price,\n",
        "        'reviews': reviews,\n",
        "        'rating' : ratings,\n",
        "        'listing_url': listing_url}"
      ]
    },
    {
      "cell_type": "code",
      "execution_count": null,
      "id": "tMh_SwS6xvlB",
      "metadata": {
        "colab": {
          "base_uri": "https://localhost:8080/",
          "height": 1000
        },
        "id": "tMh_SwS6xvlB",
        "outputId": "30e6aee7-adca-4f73-cdae-b95204cf1bea"
      },
      "outputs": [
        {
          "data": {
            "application/vnd.google.colaboratory.intrinsic+json": {
              "summary": "{\n  \"name\": \"pd\",\n  \"rows\": 48,\n  \"fields\": [\n    {\n      \"column\": \"ASIN\",\n      \"properties\": {\n        \"dtype\": \"string\",\n        \"num_unique_values\": 48,\n        \"samples\": [\n          \"B09WVDLL89\",\n          \"B0CYDG62HX\",\n          \"B0DNYHGTNY\"\n        ],\n        \"semantic_type\": \"\",\n        \"description\": \"\"\n      }\n    },\n    {\n      \"column\": \"title\",\n      \"properties\": {\n        \"dtype\": \"string\",\n        \"num_unique_values\": 48,\n        \"samples\": [\n          \"12 Pack Keep Snakes Away Balls for Outdoors Indoor, Natural Snakes Balls for Rats and Other Pests, Used in Yard Lawn Garden Camping Fishing, Safe for Human, Pet and Plants\",\n          \"3 Pack Original Old Fashioned Moth Balls Kills Clothes Moth Carpet Beetles Repellent Closet No Clinging Odor (Approx:75 Balls) with 6 Moth Ball Cases, White\",\n          \"30 Pack Snake Repellent for Yard Powerful,Snake Away Repellent Outdoors, Moth Balls for Snakes, Pet Safe Snake be Gone for Lawn Garden Fishing Home to Repels Snakes and Other Pests\"\n        ],\n        \"semantic_type\": \"\",\n        \"description\": \"\"\n      }\n    },\n    {\n      \"column\": \"image_url\",\n      \"properties\": {\n        \"dtype\": \"string\",\n        \"num_unique_values\": 48,\n        \"samples\": [\n          \"https://m.media-amazon.com/images/I/61kFpLHEODL._AC_UL640_FMwebp_QL65_.jpg\",\n          \"https://m.media-amazon.com/images/I/716eA64QXBL._AC_UL640_FMwebp_QL65_.jpg\",\n          \"https://m.media-amazon.com/images/I/71nC6ZAjA6L._AC_UL640_FMwebp_QL65_.jpg\"\n        ],\n        \"semantic_type\": \"\",\n        \"description\": \"\"\n      }\n    },\n    {\n      \"column\": \"price\",\n      \"properties\": {\n        \"dtype\": \"string\",\n        \"num_unique_values\": 41,\n        \"samples\": [\n          \"56.95\",\n          \"10.49\",\n          \"8.75\"\n        ],\n        \"semantic_type\": \"\",\n        \"description\": \"\"\n      }\n    },\n    {\n      \"column\": \"reviews\",\n      \"properties\": {\n        \"dtype\": \"string\",\n        \"num_unique_values\": 46,\n        \"samples\": [\n          \"123 ratings\",\n          \"842 ratings\",\n          \"218 ratings\"\n        ],\n        \"semantic_type\": \"\",\n        \"description\": \"\"\n      }\n    },\n    {\n      \"column\": \"rating\",\n      \"properties\": {\n        \"dtype\": \"category\",\n        \"num_unique_values\": 12,\n        \"samples\": [\n          \"4.1\",\n          \"3.7\",\n          \"4.5\"\n        ],\n        \"semantic_type\": \"\",\n        \"description\": \"\"\n      }\n    },\n    {\n      \"column\": \"listing_url\",\n      \"properties\": {\n        \"dtype\": \"string\",\n        \"num_unique_values\": 48,\n        \"samples\": [\n          \"https://www.amazon.com/dp/B09WVDLL89\",\n          \"https://www.amazon.com/dp/B0CYDG62HX\",\n          \"https://www.amazon.com/dp/B0DNYHGTNY\"\n        ],\n        \"semantic_type\": \"\",\n        \"description\": \"\"\n      }\n    }\n  ]\n}",
              "type": "dataframe"
            },
            "text/html": [
              "\n",
              "  <div id=\"df-2b4299c8-68fc-4220-84a3-95f593a88725\" class=\"colab-df-container\">\n",
              "    <div>\n",
              "<style scoped>\n",
              "    .dataframe tbody tr th:only-of-type {\n",
              "        vertical-align: middle;\n",
              "    }\n",
              "\n",
              "    .dataframe tbody tr th {\n",
              "        vertical-align: top;\n",
              "    }\n",
              "\n",
              "    .dataframe thead th {\n",
              "        text-align: right;\n",
              "    }\n",
              "</style>\n",
              "<table border=\"1\" class=\"dataframe\">\n",
              "  <thead>\n",
              "    <tr style=\"text-align: right;\">\n",
              "      <th></th>\n",
              "      <th>ASIN</th>\n",
              "      <th>title</th>\n",
              "      <th>image_url</th>\n",
              "      <th>price</th>\n",
              "      <th>reviews</th>\n",
              "      <th>rating</th>\n",
              "      <th>listing_url</th>\n",
              "    </tr>\n",
              "  </thead>\n",
              "  <tbody>\n",
              "    <tr>\n",
              "      <th>0</th>\n",
              "      <td>B07RRTLSXT</td>\n",
              "      <td>Enoz para Moth Balls for Closets and More - Ki...</td>\n",
              "      <td>https://m.media-amazon.com/images/I/814q8ILgMP...</td>\n",
              "      <td>16.45</td>\n",
              "      <td>11,832 ratings</td>\n",
              "      <td>4.5</td>\n",
              "      <td>https://www.amazon.com/dp/B07RRTLSXT</td>\n",
              "    </tr>\n",
              "    <tr>\n",
              "      <th>1</th>\n",
              "      <td>B0B8L195N9</td>\n",
              "      <td>4 Pack Old Fashioned Original Moth Balls, Carp...</td>\n",
              "      <td>https://m.media-amazon.com/images/I/61Q6y5PYNG...</td>\n",
              "      <td>8.99</td>\n",
              "      <td>2,898 ratings</td>\n",
              "      <td>4.3</td>\n",
              "      <td>https://www.amazon.com/dp/B0B8L195N9</td>\n",
              "    </tr>\n",
              "    <tr>\n",
              "      <th>2</th>\n",
              "      <td>B0CJCP5LK9</td>\n",
              "      <td>Moth Shield Moth Ball Traps for Clothes, Furni...</td>\n",
              "      <td>https://m.media-amazon.com/images/I/61QCv8bqQc...</td>\n",
              "      <td>4.94</td>\n",
              "      <td>297 ratings</td>\n",
              "      <td>4.6</td>\n",
              "      <td>https://www.amazon.com/dp/B0CJCP5LK9</td>\n",
              "    </tr>\n",
              "    <tr>\n",
              "      <th>3</th>\n",
              "      <td>B07JZVX9TT</td>\n",
              "      <td>Moth balls Moth Shield 4Oz Pack (Lavender Scen...</td>\n",
              "      <td>https://m.media-amazon.com/images/I/819G5L78qO...</td>\n",
              "      <td>8.99</td>\n",
              "      <td>1,770 ratings</td>\n",
              "      <td>4.5</td>\n",
              "      <td>https://www.amazon.com/dp/B07JZVX9TT</td>\n",
              "    </tr>\n",
              "    <tr>\n",
              "      <th>4</th>\n",
              "      <td>B01CRC32J4</td>\n",
              "      <td>4oz Moth Balls</td>\n",
              "      <td>https://m.media-amazon.com/images/I/91bPPwHWd4...</td>\n",
              "      <td>5.89</td>\n",
              "      <td>3,587 ratings</td>\n",
              "      <td>4.2</td>\n",
              "      <td>https://www.amazon.com/dp/B01CRC32J4</td>\n",
              "    </tr>\n",
              "    <tr>\n",
              "      <th>5</th>\n",
              "      <td>B077H5J4QJ</td>\n",
              "      <td>Moth Balls For Rodents</td>\n",
              "      <td>https://m.media-amazon.com/images/I/81Gtdy5Tbq...</td>\n",
              "      <td>3.26</td>\n",
              "      <td>2,617 ratings</td>\n",
              "      <td>4.2</td>\n",
              "      <td>https://www.amazon.com/dp/B077H5J4QJ</td>\n",
              "    </tr>\n",
              "    <tr>\n",
              "      <th>6</th>\n",
              "      <td>B000LNU62I</td>\n",
              "      <td>NO Moth Closet Hanger Refills - Kills Clothes ...</td>\n",
              "      <td>https://m.media-amazon.com/images/I/81SBu1-Mvi...</td>\n",
              "      <td>48.26</td>\n",
              "      <td>427 ratings</td>\n",
              "      <td>4.6</td>\n",
              "      <td>https://www.amazon.com/dp/B000LNU62I</td>\n",
              "    </tr>\n",
              "    <tr>\n",
              "      <th>7</th>\n",
              "      <td>B0044UKLV0</td>\n",
              "      <td>Enoz Moth Ball Packets - Cedar Scented (Case o...</td>\n",
              "      <td>https://m.media-amazon.com/images/I/61hyX+FO3Z...</td>\n",
              "      <td>38.79</td>\n",
              "      <td>153 ratings</td>\n",
              "      <td>4.4</td>\n",
              "      <td>https://www.amazon.com/dp/B0044UKLV0</td>\n",
              "    </tr>\n",
              "    <tr>\n",
              "      <th>8</th>\n",
              "      <td>B0DLCT247N</td>\n",
              "      <td>FINEFIX Moth Balls for Outdoor Use Rodents Pac...</td>\n",
              "      <td>https://m.media-amazon.com/images/I/71gAzEznX6...</td>\n",
              "      <td>24.95</td>\n",
              "      <td>214 ratings</td>\n",
              "      <td>4.3</td>\n",
              "      <td>https://www.amazon.com/dp/B0DLCT247N</td>\n",
              "    </tr>\n",
              "    <tr>\n",
              "      <th>9</th>\n",
              "      <td>B07W8HML6W</td>\n",
              "      <td>para Moth Balls Kills Clothes Moths and Carpet...</td>\n",
              "      <td>https://m.media-amazon.com/images/I/512bXjNctE...</td>\n",
              "      <td>8.75</td>\n",
              "      <td>635 ratings</td>\n",
              "      <td>4.4</td>\n",
              "      <td>https://www.amazon.com/dp/B07W8HML6W</td>\n",
              "    </tr>\n",
              "    <tr>\n",
              "      <th>10</th>\n",
              "      <td>B00XNZBYW2</td>\n",
              "      <td>NO-Moth Closet Hanger Refills - Moth Cakes for...</td>\n",
              "      <td>https://m.media-amazon.com/images/I/71plG4qOK4...</td>\n",
              "      <td>28.73</td>\n",
              "      <td>127 ratings</td>\n",
              "      <td>4.4</td>\n",
              "      <td>https://www.amazon.com/dp/B00XNZBYW2</td>\n",
              "    </tr>\n",
              "    <tr>\n",
              "      <th>11</th>\n",
              "      <td>B076T7Y326</td>\n",
              "      <td>4 oz Moth Balls (Pack of 4)</td>\n",
              "      <td>https://m.media-amazon.com/images/I/51KrZsIwQz...</td>\n",
              "      <td>6.76</td>\n",
              "      <td>245 ratings</td>\n",
              "      <td>4.4</td>\n",
              "      <td>https://www.amazon.com/dp/B076T7Y326</td>\n",
              "    </tr>\n",
              "    <tr>\n",
              "      <th>12</th>\n",
              "      <td>B07RSV1NPC</td>\n",
              "      <td>Enoz para Moth Balls, Kills Clothes Moths and ...</td>\n",
              "      <td>https://m.media-amazon.com/images/I/81EMh6laEu...</td>\n",
              "      <td>23.29</td>\n",
              "      <td>1,549 ratings</td>\n",
              "      <td>4.5</td>\n",
              "      <td>https://www.amazon.com/dp/B07RSV1NPC</td>\n",
              "    </tr>\n",
              "    <tr>\n",
              "      <th>13</th>\n",
              "      <td>B00FPQHCWS</td>\n",
              "      <td>Enoz Lavender Scented Moth Ball Packets: Kills...</td>\n",
              "      <td>https://m.media-amazon.com/images/I/719Z0ls2ya...</td>\n",
              "      <td>23.94</td>\n",
              "      <td>1,564 ratings</td>\n",
              "      <td>4.4</td>\n",
              "      <td>https://www.amazon.com/dp/B00FPQHCWS</td>\n",
              "    </tr>\n",
              "    <tr>\n",
              "      <th>14</th>\n",
              "      <td>B07H8LHWCQ</td>\n",
              "      <td>4 Pk Closet Block Lavender Scented</td>\n",
              "      <td>https://m.media-amazon.com/images/I/61Tz-exQQ6...</td>\n",
              "      <td>10.49</td>\n",
              "      <td>826 ratings</td>\n",
              "      <td>4.0</td>\n",
              "      <td>https://www.amazon.com/dp/B07H8LHWCQ</td>\n",
              "    </tr>\n",
              "    <tr>\n",
              "      <th>15</th>\n",
              "      <td>B00FPQHUMA</td>\n",
              "      <td>Enoz Lavender Scented Moth Bar, Kills Clothes ...</td>\n",
              "      <td>https://m.media-amazon.com/images/I/71KG00j06m...</td>\n",
              "      <td>47.45</td>\n",
              "      <td>927 ratings</td>\n",
              "      <td>4.3</td>\n",
              "      <td>https://www.amazon.com/dp/B00FPQHUMA</td>\n",
              "    </tr>\n",
              "    <tr>\n",
              "      <th>16</th>\n",
              "      <td>B0CLCRJ5FF</td>\n",
              "      <td>Cedar Balls for Clothes Storage, Aromatic Scen...</td>\n",
              "      <td>https://m.media-amazon.com/images/I/81+XByYPCv...</td>\n",
              "      <td>19.99</td>\n",
              "      <td>265 ratings</td>\n",
              "      <td>4.4</td>\n",
              "      <td>https://www.amazon.com/dp/B0CLCRJ5FF</td>\n",
              "    </tr>\n",
              "    <tr>\n",
              "      <th>17</th>\n",
              "      <td>B0CN3TG79S</td>\n",
              "      <td>Moth Shield Moth Ball Traps for Clothes, Furni...</td>\n",
              "      <td>https://m.media-amazon.com/images/I/81cqLuyGYF...</td>\n",
              "      <td>4.19</td>\n",
              "      <td>106 ratings</td>\n",
              "      <td>4.4</td>\n",
              "      <td>https://www.amazon.com/dp/B0CN3TG79S</td>\n",
              "    </tr>\n",
              "    <tr>\n",
              "      <th>18</th>\n",
              "      <td>B01FGU9UO0</td>\n",
              "      <td>Enoz Old Fashioned Moth Balls, 16 Ounce</td>\n",
              "      <td>https://m.media-amazon.com/images/I/81s04Oh9aM...</td>\n",
              "      <td>7.97</td>\n",
              "      <td>95 ratings</td>\n",
              "      <td>4.5</td>\n",
              "      <td>https://www.amazon.com/dp/B01FGU9UO0</td>\n",
              "    </tr>\n",
              "    <tr>\n",
              "      <th>19</th>\n",
              "      <td>B001I01EVU</td>\n",
              "      <td>Richards Homewares Moth Away Sachets – 24-Pack...</td>\n",
              "      <td>https://m.media-amazon.com/images/I/81cVcNPyGe...</td>\n",
              "      <td>14.99</td>\n",
              "      <td>1,706 ratings</td>\n",
              "      <td>4.3</td>\n",
              "      <td>https://www.amazon.com/dp/B001I01EVU</td>\n",
              "    </tr>\n",
              "    <tr>\n",
              "      <th>20</th>\n",
              "      <td>B0FDQTJZ6H</td>\n",
              "      <td>Rodent Mouse Repellent 24 Pack, Peppermint Oil...</td>\n",
              "      <td>https://m.media-amazon.com/images/I/81yrbi7xRn...</td>\n",
              "      <td>25.99</td>\n",
              "      <td>13 ratings</td>\n",
              "      <td>4.0</td>\n",
              "      <td>https://www.amazon.com/dp/B0FDQTJZ6H</td>\n",
              "    </tr>\n",
              "    <tr>\n",
              "      <th>21</th>\n",
              "      <td>B00AKK2XKA</td>\n",
              "      <td>Enoz Moth Cakes – 6 oz (6 Pack) – Easily Hangs...</td>\n",
              "      <td>https://m.media-amazon.com/images/I/81lFEmdc0r...</td>\n",
              "      <td>36.98</td>\n",
              "      <td>316 ratings</td>\n",
              "      <td>4.3</td>\n",
              "      <td>https://www.amazon.com/dp/B00AKK2XKA</td>\n",
              "    </tr>\n",
              "    <tr>\n",
              "      <th>22</th>\n",
              "      <td>B0FCBML1T7</td>\n",
              "      <td>Moth Balls, Mice Repellent Moth Balls for Indo...</td>\n",
              "      <td>https://m.media-amazon.com/images/I/71dDy4Aj6A...</td>\n",
              "      <td>12.99</td>\n",
              "      <td>6 ratings</td>\n",
              "      <td>5.0</td>\n",
              "      <td>https://www.amazon.com/dp/B0FCBML1T7</td>\n",
              "    </tr>\n",
              "    <tr>\n",
              "      <th>23</th>\n",
              "      <td>B00XNYCLQG</td>\n",
              "      <td>Enoz Moth Ball Packets - Lavender Scented (3)</td>\n",
              "      <td>https://m.media-amazon.com/images/I/61XK9gd+aK...</td>\n",
              "      <td>16.99</td>\n",
              "      <td>1,417 ratings</td>\n",
              "      <td>4.5</td>\n",
              "      <td>https://www.amazon.com/dp/B00XNYCLQG</td>\n",
              "    </tr>\n",
              "    <tr>\n",
              "      <th>24</th>\n",
              "      <td>B00MEBNNZ2</td>\n",
              "      <td>Powerful Moth Traps for Clothes &amp; Closets | Re...</td>\n",
              "      <td>https://m.media-amazon.com/images/I/81YBhPkVHh...</td>\n",
              "      <td>39.95</td>\n",
              "      <td>5,490 ratings</td>\n",
              "      <td>4.0</td>\n",
              "      <td>https://www.amazon.com/dp/B00MEBNNZ2</td>\n",
              "    </tr>\n",
              "    <tr>\n",
              "      <th>25</th>\n",
              "      <td>B074QTH21D</td>\n",
              "      <td>Enoz para Moth Balls with No Clinging Odor, Ki...</td>\n",
              "      <td>https://m.media-amazon.com/images/I/81vVuViAub...</td>\n",
              "      <td>56.95</td>\n",
              "      <td>842 ratings</td>\n",
              "      <td>4.6</td>\n",
              "      <td>https://www.amazon.com/dp/B074QTH21D</td>\n",
              "    </tr>\n",
              "    <tr>\n",
              "      <th>26</th>\n",
              "      <td>B0DNYHGTNY</td>\n",
              "      <td>30 Pack Snake Repellent for Yard Powerful,Snak...</td>\n",
              "      <td>https://m.media-amazon.com/images/I/71nC6ZAjA6...</td>\n",
              "      <td>36.99</td>\n",
              "      <td>218 ratings</td>\n",
              "      <td>4.3</td>\n",
              "      <td>https://www.amazon.com/dp/B0DNYHGTNY</td>\n",
              "    </tr>\n",
              "    <tr>\n",
              "      <th>27</th>\n",
              "      <td>B09WVDLL89</td>\n",
              "      <td>12 Pack Keep Snakes Away Balls for Outdoors In...</td>\n",
              "      <td>https://m.media-amazon.com/images/I/61kFpLHEOD...</td>\n",
              "      <td>18.99</td>\n",
              "      <td>723 ratings</td>\n",
              "      <td>4.3</td>\n",
              "      <td>https://www.amazon.com/dp/B09WVDLL89</td>\n",
              "    </tr>\n",
              "    <tr>\n",
              "      <th>28</th>\n",
              "      <td>B074MKNGF4</td>\n",
              "      <td>Moth-Tek Lavender Scented Moth Ball Packets, K...</td>\n",
              "      <td>https://m.media-amazon.com/images/I/71b6qpu83X...</td>\n",
              "      <td>13.99</td>\n",
              "      <td>235 ratings</td>\n",
              "      <td>4.3</td>\n",
              "      <td>https://www.amazon.com/dp/B074MKNGF4</td>\n",
              "    </tr>\n",
              "    <tr>\n",
              "      <th>29</th>\n",
              "      <td>B0DWFCD5HC</td>\n",
              "      <td>Pest Control，Moth Balls，Pest Repellent,Pepperm...</td>\n",
              "      <td>https://m.media-amazon.com/images/I/612crFKhD6...</td>\n",
              "      <td>9.99</td>\n",
              "      <td>37 ratings</td>\n",
              "      <td>3.8</td>\n",
              "      <td>https://www.amazon.com/dp/B0DWFCD5HC</td>\n",
              "    </tr>\n",
              "    <tr>\n",
              "      <th>30</th>\n",
              "      <td>B0BXFRXTBQ</td>\n",
              "      <td>50 Cedar Balls for Clothes - Fresh Smell for C...</td>\n",
              "      <td>https://m.media-amazon.com/images/I/81TsgxH0Hh...</td>\n",
              "      <td>14.97</td>\n",
              "      <td>1,542 ratings</td>\n",
              "      <td>4.2</td>\n",
              "      <td>https://www.amazon.com/dp/B0BXFRXTBQ</td>\n",
              "    </tr>\n",
              "    <tr>\n",
              "      <th>31</th>\n",
              "      <td>B00FB07ADO</td>\n",
              "      <td>Enoz Moth Crystals 1 Pound - Pack of 6</td>\n",
              "      <td>https://m.media-amazon.com/images/I/61DNxNm298...</td>\n",
              "      <td>37.68</td>\n",
              "      <td>156 ratings</td>\n",
              "      <td>4.6</td>\n",
              "      <td>https://www.amazon.com/dp/B00FB07ADO</td>\n",
              "    </tr>\n",
              "    <tr>\n",
              "      <th>32</th>\n",
              "      <td>B00XQ1L3E2</td>\n",
              "      <td>Moth-Tek Cedar Scent Moth Packets, 6-oz.</td>\n",
              "      <td>https://m.media-amazon.com/images/I/516Sdu1Zo2...</td>\n",
              "      <td>12.08</td>\n",
              "      <td>102 ratings</td>\n",
              "      <td>4.3</td>\n",
              "      <td>https://www.amazon.com/dp/B00XQ1L3E2</td>\n",
              "    </tr>\n",
              "    <tr>\n",
              "      <th>33</th>\n",
              "      <td>B00AKK2YEU</td>\n",
              "      <td>Enoz Lavender Scented Moth Bar 6 Pack</td>\n",
              "      <td>https://m.media-amazon.com/images/I/31wQGKqukw...</td>\n",
              "      <td>49.25</td>\n",
              "      <td>144 ratings</td>\n",
              "      <td>3.8</td>\n",
              "      <td>https://www.amazon.com/dp/B00AKK2YEU</td>\n",
              "    </tr>\n",
              "    <tr>\n",
              "      <th>34</th>\n",
              "      <td>B017HZB7XE</td>\n",
              "      <td>Enoz Para Moth Balls, Kills Clothes Moths and ...</td>\n",
              "      <td>https://m.media-amazon.com/images/I/81eTT1qJar...</td>\n",
              "      <td>10.88</td>\n",
              "      <td>3,958 ratings</td>\n",
              "      <td>4.4</td>\n",
              "      <td>https://www.amazon.com/dp/B017HZB7XE</td>\n",
              "    </tr>\n",
              "    <tr>\n",
              "      <th>35</th>\n",
              "      <td>B0D4V2XJ94</td>\n",
              "      <td>Pest Control Balls - Peppermint Pest Repellent...</td>\n",
              "      <td>https://m.media-amazon.com/images/I/61mhnlaSUW...</td>\n",
              "      <td>26.99</td>\n",
              "      <td>42 ratings</td>\n",
              "      <td>4.7</td>\n",
              "      <td>https://www.amazon.com/dp/B0D4V2XJ94</td>\n",
              "    </tr>\n",
              "    <tr>\n",
              "      <th>36</th>\n",
              "      <td>B0F2WVXDQP</td>\n",
              "      <td>TERRO Clothes Moth Killer – T2903 3 Pack | Kil...</td>\n",
              "      <td>https://m.media-amazon.com/images/I/81ImpS+xum...</td>\n",
              "      <td>12.99</td>\n",
              "      <td>218 ratings</td>\n",
              "      <td>3.7</td>\n",
              "      <td>https://www.amazon.com/dp/B0F2WVXDQP</td>\n",
              "    </tr>\n",
              "    <tr>\n",
              "      <th>37</th>\n",
              "      <td>B074PCG565</td>\n",
              "      <td>Enoz Lavender Scented Moth Ball Packets: Kills...</td>\n",
              "      <td>https://m.media-amazon.com/images/I/61eCARMsm4...</td>\n",
              "      <td>20.45</td>\n",
              "      <td>143 ratings</td>\n",
              "      <td>4.6</td>\n",
              "      <td>https://www.amazon.com/dp/B074PCG565</td>\n",
              "    </tr>\n",
              "    <tr>\n",
              "      <th>38</th>\n",
              "      <td>B0FB99YMWG</td>\n",
              "      <td>Rodent and Insect Repellent Balls, Rats and Sq...</td>\n",
              "      <td>https://m.media-amazon.com/images/I/71q6QbGfXo...</td>\n",
              "      <td>21.99</td>\n",
              "      <td>156 ratings</td>\n",
              "      <td>4.1</td>\n",
              "      <td>https://www.amazon.com/dp/B0FB99YMWG</td>\n",
              "    </tr>\n",
              "    <tr>\n",
              "      <th>39</th>\n",
              "      <td>B074MKFD7S</td>\n",
              "      <td>Moth-Tek Snowhite Lavender Scented Moth Ball P...</td>\n",
              "      <td>https://m.media-amazon.com/images/I/8174ZCZIeP...</td>\n",
              "      <td>59.64</td>\n",
              "      <td>29 ratings</td>\n",
              "      <td>4.5</td>\n",
              "      <td>https://www.amazon.com/dp/B074MKFD7S</td>\n",
              "    </tr>\n",
              "    <tr>\n",
              "      <th>40</th>\n",
              "      <td>B0CYDG62HX</td>\n",
              "      <td>3 Pack Original Old Fashioned Moth Balls Kills...</td>\n",
              "      <td>https://m.media-amazon.com/images/I/716eA64QXB...</td>\n",
              "      <td>13.99</td>\n",
              "      <td>41 ratings</td>\n",
              "      <td>3.9</td>\n",
              "      <td>https://www.amazon.com/dp/B0CYDG62HX</td>\n",
              "    </tr>\n",
              "    <tr>\n",
              "      <th>41</th>\n",
              "      <td>B074F2K5QN</td>\n",
              "      <td>Enoz+E112.6T+12+Oz+Lavender+Scented+Moth+Ball+...</td>\n",
              "      <td>https://m.media-amazon.com/images/I/81QLfUq7EM...</td>\n",
              "      <td>19.49</td>\n",
              "      <td>123 ratings</td>\n",
              "      <td>4.2</td>\n",
              "      <td>https://www.amazon.com/dp/B074F2K5QN</td>\n",
              "    </tr>\n",
              "    <tr>\n",
              "      <th>42</th>\n",
              "      <td>B074PD22L8</td>\n",
              "      <td>Enoz para Moth Balls with No Clinging Odor: Ki...</td>\n",
              "      <td>https://m.media-amazon.com/images/I/81AoPaubZv...</td>\n",
              "      <td>N/A</td>\n",
              "      <td>380 ratings</td>\n",
              "      <td>4.5</td>\n",
              "      <td>https://www.amazon.com/dp/B074PD22L8</td>\n",
              "    </tr>\n",
              "    <tr>\n",
              "      <th>43</th>\n",
              "      <td>B0FPQMMB62</td>\n",
              "      <td>Moth Balls for Rodents, Mice Rat Repellent for...</td>\n",
              "      <td>https://m.media-amazon.com/images/I/61OUaRKmVA...</td>\n",
              "      <td>11.99</td>\n",
              "      <td>11 ratings</td>\n",
              "      <td>4.3</td>\n",
              "      <td>https://www.amazon.com/dp/B0FPQMMB62</td>\n",
              "    </tr>\n",
              "    <tr>\n",
              "      <th>44</th>\n",
              "      <td>B0784L2QBD</td>\n",
              "      <td>Enoz Old Fashioned Moth Balls - 24 oz.</td>\n",
              "      <td>https://m.media-amazon.com/images/I/819KxfK9eF...</td>\n",
              "      <td>N/A</td>\n",
              "      <td>216 ratings</td>\n",
              "      <td>4.6</td>\n",
              "      <td>https://www.amazon.com/dp/B0784L2QBD</td>\n",
              "    </tr>\n",
              "    <tr>\n",
              "      <th>45</th>\n",
              "      <td>B0DMJZ1459</td>\n",
              "      <td>10 Pack Pantry Moth Traps Safe and Effective f...</td>\n",
              "      <td>https://m.media-amazon.com/images/I/61rK+4VPBF...</td>\n",
              "      <td>9.99</td>\n",
              "      <td>1,106 ratings</td>\n",
              "      <td>4.3</td>\n",
              "      <td>https://www.amazon.com/dp/B0DMJZ1459</td>\n",
              "    </tr>\n",
              "    <tr>\n",
              "      <th>46</th>\n",
              "      <td>B0FNWPWZ7C</td>\n",
              "      <td>Mouse Repellent 24pcs Peppermint Oil Moth Ball...</td>\n",
              "      <td>https://m.media-amazon.com/images/I/71aKXzQamN...</td>\n",
              "      <td>26.99</td>\n",
              "      <td>26 ratings</td>\n",
              "      <td>5.0</td>\n",
              "      <td>https://www.amazon.com/dp/B0FNWPWZ7C</td>\n",
              "    </tr>\n",
              "    <tr>\n",
              "      <th>47</th>\n",
              "      <td>B0834XYZ3R</td>\n",
              "      <td>12-Pack Clothes Moth Traps with Pheromone Attr...</td>\n",
              "      <td>https://m.media-amazon.com/images/I/71B0fEda+E...</td>\n",
              "      <td>26.99</td>\n",
              "      <td>2,031 ratings</td>\n",
              "      <td>4.2</td>\n",
              "      <td>https://www.amazon.com/dp/B0834XYZ3R</td>\n",
              "    </tr>\n",
              "  </tbody>\n",
              "</table>\n",
              "</div>\n",
              "    <div class=\"colab-df-buttons\">\n",
              "\n",
              "  <div class=\"colab-df-container\">\n",
              "    <button class=\"colab-df-convert\" onclick=\"convertToInteractive('df-2b4299c8-68fc-4220-84a3-95f593a88725')\"\n",
              "            title=\"Convert this dataframe to an interactive table.\"\n",
              "            style=\"display:none;\">\n",
              "\n",
              "  <svg xmlns=\"http://www.w3.org/2000/svg\" height=\"24px\" viewBox=\"0 -960 960 960\">\n",
              "    <path d=\"M120-120v-720h720v720H120Zm60-500h600v-160H180v160Zm220 220h160v-160H400v160Zm0 220h160v-160H400v160ZM180-400h160v-160H180v160Zm440 0h160v-160H620v160ZM180-180h160v-160H180v160Zm440 0h160v-160H620v160Z\"/>\n",
              "  </svg>\n",
              "    </button>\n",
              "\n",
              "  <style>\n",
              "    .colab-df-container {\n",
              "      display:flex;\n",
              "      gap: 12px;\n",
              "    }\n",
              "\n",
              "    .colab-df-convert {\n",
              "      background-color: #E8F0FE;\n",
              "      border: none;\n",
              "      border-radius: 50%;\n",
              "      cursor: pointer;\n",
              "      display: none;\n",
              "      fill: #1967D2;\n",
              "      height: 32px;\n",
              "      padding: 0 0 0 0;\n",
              "      width: 32px;\n",
              "    }\n",
              "\n",
              "    .colab-df-convert:hover {\n",
              "      background-color: #E2EBFA;\n",
              "      box-shadow: 0px 1px 2px rgba(60, 64, 67, 0.3), 0px 1px 3px 1px rgba(60, 64, 67, 0.15);\n",
              "      fill: #174EA6;\n",
              "    }\n",
              "\n",
              "    .colab-df-buttons div {\n",
              "      margin-bottom: 4px;\n",
              "    }\n",
              "\n",
              "    [theme=dark] .colab-df-convert {\n",
              "      background-color: #3B4455;\n",
              "      fill: #D2E3FC;\n",
              "    }\n",
              "\n",
              "    [theme=dark] .colab-df-convert:hover {\n",
              "      background-color: #434B5C;\n",
              "      box-shadow: 0px 1px 3px 1px rgba(0, 0, 0, 0.15);\n",
              "      filter: drop-shadow(0px 1px 2px rgba(0, 0, 0, 0.3));\n",
              "      fill: #FFFFFF;\n",
              "    }\n",
              "  </style>\n",
              "\n",
              "    <script>\n",
              "      const buttonEl =\n",
              "        document.querySelector('#df-2b4299c8-68fc-4220-84a3-95f593a88725 button.colab-df-convert');\n",
              "      buttonEl.style.display =\n",
              "        google.colab.kernel.accessAllowed ? 'block' : 'none';\n",
              "\n",
              "      async function convertToInteractive(key) {\n",
              "        const element = document.querySelector('#df-2b4299c8-68fc-4220-84a3-95f593a88725');\n",
              "        const dataTable =\n",
              "          await google.colab.kernel.invokeFunction('convertToInteractive',\n",
              "                                                    [key], {});\n",
              "        if (!dataTable) return;\n",
              "\n",
              "        const docLinkHtml = 'Like what you see? Visit the ' +\n",
              "          '<a target=\"_blank\" href=https://colab.research.google.com/notebooks/data_table.ipynb>data table notebook</a>'\n",
              "          + ' to learn more about interactive tables.';\n",
              "        element.innerHTML = '';\n",
              "        dataTable['output_type'] = 'display_data';\n",
              "        await google.colab.output.renderOutput(dataTable, element);\n",
              "        const docLink = document.createElement('div');\n",
              "        docLink.innerHTML = docLinkHtml;\n",
              "        element.appendChild(docLink);\n",
              "      }\n",
              "    </script>\n",
              "  </div>\n",
              "\n",
              "\n",
              "    <div id=\"df-b2931d6c-1829-45c0-ab9d-d7e693f31d52\">\n",
              "      <button class=\"colab-df-quickchart\" onclick=\"quickchart('df-b2931d6c-1829-45c0-ab9d-d7e693f31d52')\"\n",
              "                title=\"Suggest charts\"\n",
              "                style=\"display:none;\">\n",
              "\n",
              "<svg xmlns=\"http://www.w3.org/2000/svg\" height=\"24px\"viewBox=\"0 0 24 24\"\n",
              "     width=\"24px\">\n",
              "    <g>\n",
              "        <path d=\"M19 3H5c-1.1 0-2 .9-2 2v14c0 1.1.9 2 2 2h14c1.1 0 2-.9 2-2V5c0-1.1-.9-2-2-2zM9 17H7v-7h2v7zm4 0h-2V7h2v10zm4 0h-2v-4h2v4z\"/>\n",
              "    </g>\n",
              "</svg>\n",
              "      </button>\n",
              "\n",
              "<style>\n",
              "  .colab-df-quickchart {\n",
              "      --bg-color: #E8F0FE;\n",
              "      --fill-color: #1967D2;\n",
              "      --hover-bg-color: #E2EBFA;\n",
              "      --hover-fill-color: #174EA6;\n",
              "      --disabled-fill-color: #AAA;\n",
              "      --disabled-bg-color: #DDD;\n",
              "  }\n",
              "\n",
              "  [theme=dark] .colab-df-quickchart {\n",
              "      --bg-color: #3B4455;\n",
              "      --fill-color: #D2E3FC;\n",
              "      --hover-bg-color: #434B5C;\n",
              "      --hover-fill-color: #FFFFFF;\n",
              "      --disabled-bg-color: #3B4455;\n",
              "      --disabled-fill-color: #666;\n",
              "  }\n",
              "\n",
              "  .colab-df-quickchart {\n",
              "    background-color: var(--bg-color);\n",
              "    border: none;\n",
              "    border-radius: 50%;\n",
              "    cursor: pointer;\n",
              "    display: none;\n",
              "    fill: var(--fill-color);\n",
              "    height: 32px;\n",
              "    padding: 0;\n",
              "    width: 32px;\n",
              "  }\n",
              "\n",
              "  .colab-df-quickchart:hover {\n",
              "    background-color: var(--hover-bg-color);\n",
              "    box-shadow: 0 1px 2px rgba(60, 64, 67, 0.3), 0 1px 3px 1px rgba(60, 64, 67, 0.15);\n",
              "    fill: var(--button-hover-fill-color);\n",
              "  }\n",
              "\n",
              "  .colab-df-quickchart-complete:disabled,\n",
              "  .colab-df-quickchart-complete:disabled:hover {\n",
              "    background-color: var(--disabled-bg-color);\n",
              "    fill: var(--disabled-fill-color);\n",
              "    box-shadow: none;\n",
              "  }\n",
              "\n",
              "  .colab-df-spinner {\n",
              "    border: 2px solid var(--fill-color);\n",
              "    border-color: transparent;\n",
              "    border-bottom-color: var(--fill-color);\n",
              "    animation:\n",
              "      spin 1s steps(1) infinite;\n",
              "  }\n",
              "\n",
              "  @keyframes spin {\n",
              "    0% {\n",
              "      border-color: transparent;\n",
              "      border-bottom-color: var(--fill-color);\n",
              "      border-left-color: var(--fill-color);\n",
              "    }\n",
              "    20% {\n",
              "      border-color: transparent;\n",
              "      border-left-color: var(--fill-color);\n",
              "      border-top-color: var(--fill-color);\n",
              "    }\n",
              "    30% {\n",
              "      border-color: transparent;\n",
              "      border-left-color: var(--fill-color);\n",
              "      border-top-color: var(--fill-color);\n",
              "      border-right-color: var(--fill-color);\n",
              "    }\n",
              "    40% {\n",
              "      border-color: transparent;\n",
              "      border-right-color: var(--fill-color);\n",
              "      border-top-color: var(--fill-color);\n",
              "    }\n",
              "    60% {\n",
              "      border-color: transparent;\n",
              "      border-right-color: var(--fill-color);\n",
              "    }\n",
              "    80% {\n",
              "      border-color: transparent;\n",
              "      border-right-color: var(--fill-color);\n",
              "      border-bottom-color: var(--fill-color);\n",
              "    }\n",
              "    90% {\n",
              "      border-color: transparent;\n",
              "      border-bottom-color: var(--fill-color);\n",
              "    }\n",
              "  }\n",
              "</style>\n",
              "\n",
              "      <script>\n",
              "        async function quickchart(key) {\n",
              "          const quickchartButtonEl =\n",
              "            document.querySelector('#' + key + ' button');\n",
              "          quickchartButtonEl.disabled = true;  // To prevent multiple clicks.\n",
              "          quickchartButtonEl.classList.add('colab-df-spinner');\n",
              "          try {\n",
              "            const charts = await google.colab.kernel.invokeFunction(\n",
              "                'suggestCharts', [key], {});\n",
              "          } catch (error) {\n",
              "            console.error('Error during call to suggestCharts:', error);\n",
              "          }\n",
              "          quickchartButtonEl.classList.remove('colab-df-spinner');\n",
              "          quickchartButtonEl.classList.add('colab-df-quickchart-complete');\n",
              "        }\n",
              "        (() => {\n",
              "          let quickchartButtonEl =\n",
              "            document.querySelector('#df-b2931d6c-1829-45c0-ab9d-d7e693f31d52 button');\n",
              "          quickchartButtonEl.style.display =\n",
              "            google.colab.kernel.accessAllowed ? 'block' : 'none';\n",
              "        })();\n",
              "      </script>\n",
              "    </div>\n",
              "\n",
              "    </div>\n",
              "  </div>\n"
            ],
            "text/plain": [
              "          ASIN                                              title  \\\n",
              "0   B07RRTLSXT  Enoz para Moth Balls for Closets and More - Ki...   \n",
              "1   B0B8L195N9  4 Pack Old Fashioned Original Moth Balls, Carp...   \n",
              "2   B0CJCP5LK9  Moth Shield Moth Ball Traps for Clothes, Furni...   \n",
              "3   B07JZVX9TT  Moth balls Moth Shield 4Oz Pack (Lavender Scen...   \n",
              "4   B01CRC32J4                                     4oz Moth Balls   \n",
              "5   B077H5J4QJ                             Moth Balls For Rodents   \n",
              "6   B000LNU62I  NO Moth Closet Hanger Refills - Kills Clothes ...   \n",
              "7   B0044UKLV0  Enoz Moth Ball Packets - Cedar Scented (Case o...   \n",
              "8   B0DLCT247N  FINEFIX Moth Balls for Outdoor Use Rodents Pac...   \n",
              "9   B07W8HML6W  para Moth Balls Kills Clothes Moths and Carpet...   \n",
              "10  B00XNZBYW2  NO-Moth Closet Hanger Refills - Moth Cakes for...   \n",
              "11  B076T7Y326                        4 oz Moth Balls (Pack of 4)   \n",
              "12  B07RSV1NPC  Enoz para Moth Balls, Kills Clothes Moths and ...   \n",
              "13  B00FPQHCWS  Enoz Lavender Scented Moth Ball Packets: Kills...   \n",
              "14  B07H8LHWCQ                 4 Pk Closet Block Lavender Scented   \n",
              "15  B00FPQHUMA  Enoz Lavender Scented Moth Bar, Kills Clothes ...   \n",
              "16  B0CLCRJ5FF  Cedar Balls for Clothes Storage, Aromatic Scen...   \n",
              "17  B0CN3TG79S  Moth Shield Moth Ball Traps for Clothes, Furni...   \n",
              "18  B01FGU9UO0            Enoz Old Fashioned Moth Balls, 16 Ounce   \n",
              "19  B001I01EVU  Richards Homewares Moth Away Sachets – 24-Pack...   \n",
              "20  B0FDQTJZ6H  Rodent Mouse Repellent 24 Pack, Peppermint Oil...   \n",
              "21  B00AKK2XKA  Enoz Moth Cakes – 6 oz (6 Pack) – Easily Hangs...   \n",
              "22  B0FCBML1T7  Moth Balls, Mice Repellent Moth Balls for Indo...   \n",
              "23  B00XNYCLQG      Enoz Moth Ball Packets - Lavender Scented (3)   \n",
              "24  B00MEBNNZ2  Powerful Moth Traps for Clothes & Closets | Re...   \n",
              "25  B074QTH21D  Enoz para Moth Balls with No Clinging Odor, Ki...   \n",
              "26  B0DNYHGTNY  30 Pack Snake Repellent for Yard Powerful,Snak...   \n",
              "27  B09WVDLL89  12 Pack Keep Snakes Away Balls for Outdoors In...   \n",
              "28  B074MKNGF4  Moth-Tek Lavender Scented Moth Ball Packets, K...   \n",
              "29  B0DWFCD5HC  Pest Control，Moth Balls，Pest Repellent,Pepperm...   \n",
              "30  B0BXFRXTBQ  50 Cedar Balls for Clothes - Fresh Smell for C...   \n",
              "31  B00FB07ADO             Enoz Moth Crystals 1 Pound - Pack of 6   \n",
              "32  B00XQ1L3E2           Moth-Tek Cedar Scent Moth Packets, 6-oz.   \n",
              "33  B00AKK2YEU              Enoz Lavender Scented Moth Bar 6 Pack   \n",
              "34  B017HZB7XE  Enoz Para Moth Balls, Kills Clothes Moths and ...   \n",
              "35  B0D4V2XJ94  Pest Control Balls - Peppermint Pest Repellent...   \n",
              "36  B0F2WVXDQP  TERRO Clothes Moth Killer – T2903 3 Pack | Kil...   \n",
              "37  B074PCG565  Enoz Lavender Scented Moth Ball Packets: Kills...   \n",
              "38  B0FB99YMWG  Rodent and Insect Repellent Balls, Rats and Sq...   \n",
              "39  B074MKFD7S  Moth-Tek Snowhite Lavender Scented Moth Ball P...   \n",
              "40  B0CYDG62HX  3 Pack Original Old Fashioned Moth Balls Kills...   \n",
              "41  B074F2K5QN  Enoz+E112.6T+12+Oz+Lavender+Scented+Moth+Ball+...   \n",
              "42  B074PD22L8  Enoz para Moth Balls with No Clinging Odor: Ki...   \n",
              "43  B0FPQMMB62  Moth Balls for Rodents, Mice Rat Repellent for...   \n",
              "44  B0784L2QBD             Enoz Old Fashioned Moth Balls - 24 oz.   \n",
              "45  B0DMJZ1459  10 Pack Pantry Moth Traps Safe and Effective f...   \n",
              "46  B0FNWPWZ7C  Mouse Repellent 24pcs Peppermint Oil Moth Ball...   \n",
              "47  B0834XYZ3R  12-Pack Clothes Moth Traps with Pheromone Attr...   \n",
              "\n",
              "                                            image_url  price         reviews  \\\n",
              "0   https://m.media-amazon.com/images/I/814q8ILgMP...  16.45  11,832 ratings   \n",
              "1   https://m.media-amazon.com/images/I/61Q6y5PYNG...   8.99   2,898 ratings   \n",
              "2   https://m.media-amazon.com/images/I/61QCv8bqQc...   4.94     297 ratings   \n",
              "3   https://m.media-amazon.com/images/I/819G5L78qO...   8.99   1,770 ratings   \n",
              "4   https://m.media-amazon.com/images/I/91bPPwHWd4...   5.89   3,587 ratings   \n",
              "5   https://m.media-amazon.com/images/I/81Gtdy5Tbq...   3.26   2,617 ratings   \n",
              "6   https://m.media-amazon.com/images/I/81SBu1-Mvi...  48.26     427 ratings   \n",
              "7   https://m.media-amazon.com/images/I/61hyX+FO3Z...  38.79     153 ratings   \n",
              "8   https://m.media-amazon.com/images/I/71gAzEznX6...  24.95     214 ratings   \n",
              "9   https://m.media-amazon.com/images/I/512bXjNctE...   8.75     635 ratings   \n",
              "10  https://m.media-amazon.com/images/I/71plG4qOK4...  28.73     127 ratings   \n",
              "11  https://m.media-amazon.com/images/I/51KrZsIwQz...   6.76     245 ratings   \n",
              "12  https://m.media-amazon.com/images/I/81EMh6laEu...  23.29   1,549 ratings   \n",
              "13  https://m.media-amazon.com/images/I/719Z0ls2ya...  23.94   1,564 ratings   \n",
              "14  https://m.media-amazon.com/images/I/61Tz-exQQ6...  10.49     826 ratings   \n",
              "15  https://m.media-amazon.com/images/I/71KG00j06m...  47.45     927 ratings   \n",
              "16  https://m.media-amazon.com/images/I/81+XByYPCv...  19.99     265 ratings   \n",
              "17  https://m.media-amazon.com/images/I/81cqLuyGYF...   4.19     106 ratings   \n",
              "18  https://m.media-amazon.com/images/I/81s04Oh9aM...   7.97      95 ratings   \n",
              "19  https://m.media-amazon.com/images/I/81cVcNPyGe...  14.99   1,706 ratings   \n",
              "20  https://m.media-amazon.com/images/I/81yrbi7xRn...  25.99      13 ratings   \n",
              "21  https://m.media-amazon.com/images/I/81lFEmdc0r...  36.98     316 ratings   \n",
              "22  https://m.media-amazon.com/images/I/71dDy4Aj6A...  12.99       6 ratings   \n",
              "23  https://m.media-amazon.com/images/I/61XK9gd+aK...  16.99   1,417 ratings   \n",
              "24  https://m.media-amazon.com/images/I/81YBhPkVHh...  39.95   5,490 ratings   \n",
              "25  https://m.media-amazon.com/images/I/81vVuViAub...  56.95     842 ratings   \n",
              "26  https://m.media-amazon.com/images/I/71nC6ZAjA6...  36.99     218 ratings   \n",
              "27  https://m.media-amazon.com/images/I/61kFpLHEOD...  18.99     723 ratings   \n",
              "28  https://m.media-amazon.com/images/I/71b6qpu83X...  13.99     235 ratings   \n",
              "29  https://m.media-amazon.com/images/I/612crFKhD6...   9.99      37 ratings   \n",
              "30  https://m.media-amazon.com/images/I/81TsgxH0Hh...  14.97   1,542 ratings   \n",
              "31  https://m.media-amazon.com/images/I/61DNxNm298...  37.68     156 ratings   \n",
              "32  https://m.media-amazon.com/images/I/516Sdu1Zo2...  12.08     102 ratings   \n",
              "33  https://m.media-amazon.com/images/I/31wQGKqukw...  49.25     144 ratings   \n",
              "34  https://m.media-amazon.com/images/I/81eTT1qJar...  10.88   3,958 ratings   \n",
              "35  https://m.media-amazon.com/images/I/61mhnlaSUW...  26.99      42 ratings   \n",
              "36  https://m.media-amazon.com/images/I/81ImpS+xum...  12.99     218 ratings   \n",
              "37  https://m.media-amazon.com/images/I/61eCARMsm4...  20.45     143 ratings   \n",
              "38  https://m.media-amazon.com/images/I/71q6QbGfXo...  21.99     156 ratings   \n",
              "39  https://m.media-amazon.com/images/I/8174ZCZIeP...  59.64      29 ratings   \n",
              "40  https://m.media-amazon.com/images/I/716eA64QXB...  13.99      41 ratings   \n",
              "41  https://m.media-amazon.com/images/I/81QLfUq7EM...  19.49     123 ratings   \n",
              "42  https://m.media-amazon.com/images/I/81AoPaubZv...    N/A     380 ratings   \n",
              "43  https://m.media-amazon.com/images/I/61OUaRKmVA...  11.99      11 ratings   \n",
              "44  https://m.media-amazon.com/images/I/819KxfK9eF...    N/A     216 ratings   \n",
              "45  https://m.media-amazon.com/images/I/61rK+4VPBF...   9.99   1,106 ratings   \n",
              "46  https://m.media-amazon.com/images/I/71aKXzQamN...  26.99      26 ratings   \n",
              "47  https://m.media-amazon.com/images/I/71B0fEda+E...  26.99   2,031 ratings   \n",
              "\n",
              "   rating                           listing_url  \n",
              "0     4.5  https://www.amazon.com/dp/B07RRTLSXT  \n",
              "1     4.3  https://www.amazon.com/dp/B0B8L195N9  \n",
              "2     4.6  https://www.amazon.com/dp/B0CJCP5LK9  \n",
              "3     4.5  https://www.amazon.com/dp/B07JZVX9TT  \n",
              "4     4.2  https://www.amazon.com/dp/B01CRC32J4  \n",
              "5     4.2  https://www.amazon.com/dp/B077H5J4QJ  \n",
              "6     4.6  https://www.amazon.com/dp/B000LNU62I  \n",
              "7     4.4  https://www.amazon.com/dp/B0044UKLV0  \n",
              "8     4.3  https://www.amazon.com/dp/B0DLCT247N  \n",
              "9     4.4  https://www.amazon.com/dp/B07W8HML6W  \n",
              "10    4.4  https://www.amazon.com/dp/B00XNZBYW2  \n",
              "11    4.4  https://www.amazon.com/dp/B076T7Y326  \n",
              "12    4.5  https://www.amazon.com/dp/B07RSV1NPC  \n",
              "13    4.4  https://www.amazon.com/dp/B00FPQHCWS  \n",
              "14    4.0  https://www.amazon.com/dp/B07H8LHWCQ  \n",
              "15    4.3  https://www.amazon.com/dp/B00FPQHUMA  \n",
              "16    4.4  https://www.amazon.com/dp/B0CLCRJ5FF  \n",
              "17    4.4  https://www.amazon.com/dp/B0CN3TG79S  \n",
              "18    4.5  https://www.amazon.com/dp/B01FGU9UO0  \n",
              "19    4.3  https://www.amazon.com/dp/B001I01EVU  \n",
              "20    4.0  https://www.amazon.com/dp/B0FDQTJZ6H  \n",
              "21    4.3  https://www.amazon.com/dp/B00AKK2XKA  \n",
              "22    5.0  https://www.amazon.com/dp/B0FCBML1T7  \n",
              "23    4.5  https://www.amazon.com/dp/B00XNYCLQG  \n",
              "24    4.0  https://www.amazon.com/dp/B00MEBNNZ2  \n",
              "25    4.6  https://www.amazon.com/dp/B074QTH21D  \n",
              "26    4.3  https://www.amazon.com/dp/B0DNYHGTNY  \n",
              "27    4.3  https://www.amazon.com/dp/B09WVDLL89  \n",
              "28    4.3  https://www.amazon.com/dp/B074MKNGF4  \n",
              "29    3.8  https://www.amazon.com/dp/B0DWFCD5HC  \n",
              "30    4.2  https://www.amazon.com/dp/B0BXFRXTBQ  \n",
              "31    4.6  https://www.amazon.com/dp/B00FB07ADO  \n",
              "32    4.3  https://www.amazon.com/dp/B00XQ1L3E2  \n",
              "33    3.8  https://www.amazon.com/dp/B00AKK2YEU  \n",
              "34    4.4  https://www.amazon.com/dp/B017HZB7XE  \n",
              "35    4.7  https://www.amazon.com/dp/B0D4V2XJ94  \n",
              "36    3.7  https://www.amazon.com/dp/B0F2WVXDQP  \n",
              "37    4.6  https://www.amazon.com/dp/B074PCG565  \n",
              "38    4.1  https://www.amazon.com/dp/B0FB99YMWG  \n",
              "39    4.5  https://www.amazon.com/dp/B074MKFD7S  \n",
              "40    3.9  https://www.amazon.com/dp/B0CYDG62HX  \n",
              "41    4.2  https://www.amazon.com/dp/B074F2K5QN  \n",
              "42    4.5  https://www.amazon.com/dp/B074PD22L8  \n",
              "43    4.3  https://www.amazon.com/dp/B0FPQMMB62  \n",
              "44    4.6  https://www.amazon.com/dp/B0784L2QBD  \n",
              "45    4.3  https://www.amazon.com/dp/B0DMJZ1459  \n",
              "46    5.0  https://www.amazon.com/dp/B0FNWPWZ7C  \n",
              "47    4.2  https://www.amazon.com/dp/B0834XYZ3R  "
            ]
          },
          "execution_count": 42,
          "metadata": {},
          "output_type": "execute_result"
        }
      ],
      "source": [
        "pd.DataFrame(data) # creating a dataframe from the dictionary"
      ]
    }
  ],
  "metadata": {
    "colab": {
      "provenance": []
    },
    "kernelspec": {
      "display_name": "Learning",
      "language": "python",
      "name": "python3"
    },
    "language_info": {
      "codemirror_mode": {
        "name": "ipython",
        "version": 3
      },
      "file_extension": ".py",
      "mimetype": "text/x-python",
      "name": "python",
      "nbconvert_exporter": "python",
      "pygments_lexer": "ipython3",
      "version": "3.10.18"
    }
  },
  "nbformat": 4,
  "nbformat_minor": 5
}
