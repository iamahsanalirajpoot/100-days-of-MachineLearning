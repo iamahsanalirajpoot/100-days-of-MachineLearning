{
  "cells": [
    {
      "cell_type": "markdown",
      "metadata": {},
      "source": [
        "# **Fitching Data using Web Scraping**"
      ]
    },
    {
      "cell_type": "markdown",
      "metadata": {
        "id": "wOZzEWG6cQ-0"
      },
      "source": [
        "## Scrapping Data From [scrapethissite.com]('scrapethissite.com) using BeautifulSoup"
      ]
    },
    {
      "cell_type": "code",
      "execution_count": 1,
      "metadata": {
        "id": "_V_a2TIIbR-o"
      },
      "outputs": [],
      "source": [
        "# necessary lbraries\n",
        "import pandas as pd\n",
        "import requests\n",
        "from bs4 import BeautifulSoup"
      ]
    },
    {
      "cell_type": "code",
      "execution_count": 13,
      "metadata": {
        "id": "R38iShHBHNdS"
      },
      "outputs": [],
      "source": [
        "# setting headers to mimic a real browser visit\n",
        "headers = {\n",
        "    \"User-Agent\": \"Mozilla/5.0 (Windows NT 10.0; Win64; x64; rv:122.0) Gecko/20100101 Firefox/122.0\",\n",
        "    \"Accept-Language\": \"en-US,en;q=0.9\",\n",
        "    \"Accept-Encoding\": \"gzip, deflate\",\n",
        "    \"Accept\": \"text/html,application/xhtml+xml,application/xml;q=0.9,image/avif,image/webp,*/*;q=0.8\",\n",
        "    \"Connection\": \"keep-alive\",\n",
        "    \"Upgrade-Insecure-Requests\": \"1\",\n",
        "    \"Referer\": \"https://www.google.com/\",\n",
        "}\n",
        "\n",
        "url = \"https://www.scrapethissite.com/pages/simple/\" # -> target URL\n",
        "\n",
        "response = requests.get(url, headers=headers) # -> GET request\n",
        "webpage = response.text   # -> webpage content"
      ]
    },
    {
      "cell_type": "code",
      "execution_count": 15,
      "metadata": {
        "id": "DMU9WDUIU14q"
      },
      "outputs": [],
      "source": [
        "s = BeautifulSoup(webpage, 'html.parser') # -> parsing the webpage"
      ]
    },
    {
      "cell_type": "code",
      "execution_count": 16,
      "metadata": {
        "id": "FXzLqfxZ2Crf"
      },
      "outputs": [],
      "source": [
        "country = s.find_all('div', class_='col-md-4 country') # -> finding all country divs"
      ]
    },
    {
      "cell_type": "code",
      "execution_count": 18,
      "metadata": {
        "id": "qhE0VKf72cA7"
      },
      "outputs": [],
      "source": [
        "# lists to hold the data\n",
        "name = []\n",
        "capital = []\n",
        "population = []\n",
        "area = []\n",
        "\n",
        "# extracting data from each country div\n",
        "for i in country:\n",
        "  name.append(i.find('h3').text.strip())\n",
        "  capital.append(i.find_all('span', class_='country-capital')[0].text)\n",
        "  population.append(i.find('span', class_='country-population').text)\n",
        "  area.append(i.find('span', class_='country-area').text)\n",
        "\n",
        "data = {\"name\" : name,\n",
        "        \"capital\" : capital,\n",
        "        \"population\" : population,\n",
        "        \"area\" : area}\n",
        "\n",
        "df = pd.DataFrame(data) # -> creating a DataFrame"
      ]
    },
    {
      "cell_type": "code",
      "execution_count": 19,
      "metadata": {
        "colab": {
          "base_uri": "https://localhost:8080/"
        },
        "id": "zrfA7Vx9_EqL",
        "outputId": "d27a6504-47b8-4bcb-aa5e-0529f9e91e58"
      },
      "outputs": [
        {
          "data": {
            "text/plain": [
              "(250, 4)"
            ]
          },
          "execution_count": 19,
          "metadata": {},
          "output_type": "execute_result"
        }
      ],
      "source": [
        "df.shape"
      ]
    },
    {
      "cell_type": "code",
      "execution_count": 20,
      "metadata": {
        "colab": {
          "base_uri": "https://localhost:8080/",
          "height": 206
        },
        "id": "9qv-7cYQ-9mS",
        "outputId": "33e8f521-d372-4a99-fa54-0208831bca77"
      },
      "outputs": [
        {
          "data": {
            "text/html": [
              "<div>\n",
              "<style scoped>\n",
              "    .dataframe tbody tr th:only-of-type {\n",
              "        vertical-align: middle;\n",
              "    }\n",
              "\n",
              "    .dataframe tbody tr th {\n",
              "        vertical-align: top;\n",
              "    }\n",
              "\n",
              "    .dataframe thead th {\n",
              "        text-align: right;\n",
              "    }\n",
              "</style>\n",
              "<table border=\"1\" class=\"dataframe\">\n",
              "  <thead>\n",
              "    <tr style=\"text-align: right;\">\n",
              "      <th></th>\n",
              "      <th>name</th>\n",
              "      <th>capital</th>\n",
              "      <th>population</th>\n",
              "      <th>area</th>\n",
              "    </tr>\n",
              "  </thead>\n",
              "  <tbody>\n",
              "    <tr>\n",
              "      <th>0</th>\n",
              "      <td>Andorra</td>\n",
              "      <td>Andorra la Vella</td>\n",
              "      <td>84000</td>\n",
              "      <td>468.0</td>\n",
              "    </tr>\n",
              "    <tr>\n",
              "      <th>1</th>\n",
              "      <td>United Arab Emirates</td>\n",
              "      <td>Abu Dhabi</td>\n",
              "      <td>4975593</td>\n",
              "      <td>82880.0</td>\n",
              "    </tr>\n",
              "    <tr>\n",
              "      <th>2</th>\n",
              "      <td>Afghanistan</td>\n",
              "      <td>Kabul</td>\n",
              "      <td>29121286</td>\n",
              "      <td>647500.0</td>\n",
              "    </tr>\n",
              "    <tr>\n",
              "      <th>3</th>\n",
              "      <td>Antigua and Barbuda</td>\n",
              "      <td>St. John's</td>\n",
              "      <td>86754</td>\n",
              "      <td>443.0</td>\n",
              "    </tr>\n",
              "    <tr>\n",
              "      <th>4</th>\n",
              "      <td>Anguilla</td>\n",
              "      <td>The Valley</td>\n",
              "      <td>13254</td>\n",
              "      <td>102.0</td>\n",
              "    </tr>\n",
              "  </tbody>\n",
              "</table>\n",
              "</div>"
            ],
            "text/plain": [
              "                   name           capital population      area\n",
              "0               Andorra  Andorra la Vella      84000     468.0\n",
              "1  United Arab Emirates         Abu Dhabi    4975593   82880.0\n",
              "2           Afghanistan             Kabul   29121286  647500.0\n",
              "3   Antigua and Barbuda        St. John's      86754     443.0\n",
              "4              Anguilla        The Valley      13254     102.0"
            ]
          },
          "execution_count": 20,
          "metadata": {},
          "output_type": "execute_result"
        }
      ],
      "source": [
        "df.head()"
      ]
    },
    {
      "cell_type": "code",
      "execution_count": 24,
      "metadata": {},
      "outputs": [],
      "source": [
        "df.to_csv(\"countries.csv\", index=False) # -> exporting to CSV file"
      ]
    }
  ],
  "metadata": {
    "colab": {
      "provenance": []
    },
    "kernelspec": {
      "display_name": "Learning",
      "language": "python",
      "name": "python3"
    },
    "language_info": {
      "codemirror_mode": {
        "name": "ipython",
        "version": 3
      },
      "file_extension": ".py",
      "mimetype": "text/x-python",
      "name": "python",
      "nbconvert_exporter": "python",
      "pygments_lexer": "ipython3",
      "version": "3.10.18"
    }
  },
  "nbformat": 4,
  "nbformat_minor": 0
}
